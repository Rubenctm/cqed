{
 "cells": [
  {
   "cell_type": "code",
   "execution_count": 10,
   "metadata": {
    "ExecuteTime": {
     "end_time": "2019-02-07T10:45:15.182696Z",
     "start_time": "2019-02-07T10:45:15.158685Z"
    }
   },
   "outputs": [],
   "source": [
    "%matplotlib notebook\n",
    "\n",
    "import time\n",
    "from importlib import reload\n",
    "\n",
    "from matplotlib import pyplot as plt\n",
    "from matplotlib import colors, cm\n",
    "import numpy as np\n",
    "\n",
    "import qcodes\n",
    "import qcodes as qc\n",
    "\n",
    "from pytopo.qctools.instruments import add2station, create_inst\n",
    "from pytopo.awg_sequencing import awg_tools"
   ]
  },
  {
   "cell_type": "markdown",
   "metadata": {},
   "source": [
    "# Init station"
   ]
  },
  {
   "cell_type": "code",
   "execution_count": 2,
   "metadata": {
    "ExecuteTime": {
     "end_time": "2019-02-07T10:42:53.997042Z",
     "start_time": "2019-02-07T10:42:38.749658Z"
    }
   },
   "outputs": [
    {
     "name": "stdout",
     "output_type": "stream",
     "text": [
      "Connected to: TEKTRONIX AWG5014C (serial:B051388, firmware:SCPI:99.0 FW:4.6.0.7) in 0.60s\n",
      "Connected to: Rohde&Schwarz SGS100A (serial:1416.0505k02/110512, firmware:3.1.19.15-3.50.124.67) in 0.05s\n",
      "Connected to: Rohde&Schwarz SGS100A (serial:1416.0505k02/110531, firmware:3.1.19.15-3.50.124.67) in 0.05s\n",
      "Connected to: Rohde&Schwarz SGS100A (serial:1416.0505k02/110509, firmware:3.1.19.15-3.50.124.67) in 0.05s\n",
      "Connected to: Rohde&Schwarz SGS100A (serial:1416.0505k02/110869, firmware:3.1.19.26-3.50.124.73) in 0.05s\n",
      "Initialized IVVI-rack in 0.06s\n",
      "Connected to: YOKOGAWA GS210 (serial:91T926459, firmware:2.02) in 0.06s\n",
      "Connected to: Rigol Technologies DG1062Z (serial:DG1ZA195006391, firmware:03.01.12) in 0.06s\n"
     ]
    },
    {
     "name": "stderr",
     "output_type": "stream",
     "text": [
      "[yoko(GS200)] Snapshot: Could not update parameter: voltage_range\n",
      "[yoko(GS200)] Snapshot: Could not update parameter: voltage\n",
      "[fg_burst(DG1062Burst)] Snapshot: Could not update parameter: period\n",
      "[fg_burst(DG1062Burst)] Snapshot: Could not update parameter: period\n"
     ]
    }
   ],
   "source": [
    "%run -i D:/OneDrive/BF2/Code/BF2/BF2/init_station.py\n",
    "%run -i D:/OneDrive/BF2/Code/BF2/BF2/init_station_cqed.py"
   ]
  },
  {
   "cell_type": "markdown",
   "metadata": {},
   "source": [
    "## instrument defaults"
   ]
  },
  {
   "cell_type": "code",
   "execution_count": 3,
   "metadata": {
    "ExecuteTime": {
     "end_time": "2019-02-07T10:42:55.439633Z",
     "start_time": "2019-02-07T10:42:55.432615Z"
    }
   },
   "outputs": [],
   "source": [
    "station.hetsrc.IF(25e6)\n",
    "station.hetsrc.frequency(4.8e9)"
   ]
  },
  {
   "cell_type": "markdown",
   "metadata": {},
   "source": [
    "## Acquisition controllers"
   ]
  },
  {
   "cell_type": "code",
   "execution_count": 7,
   "metadata": {
    "ExecuteTime": {
     "end_time": "2019-02-07T10:44:06.539402Z",
     "start_time": "2019-02-07T10:44:02.166357Z"
    }
   },
   "outputs": [
    {
     "name": "stdout",
     "output_type": "stream",
     "text": [
      "Instrument post_iq_acq already exists.\n",
      "Allocating 500000000 elements (2000.0 MB, dtype: <class 'numpy.int32'>)\n",
      "Instrument softsweep_ctl already exists.\n",
      "Allocating 500000000 elements (2000.0 MB, dtype: <class 'numpy.int32'>)\n"
     ]
    }
   ],
   "source": [
    "from pytopo.rf.alazar import acquisition_controllers; reload(acquisition_controllers)\n",
    "from pytopo.rf.alazar import softsweep as ss; reload(ss)\n",
    "\n",
    "# controller for 'simple' post-acquisition demod\n",
    "post_iq_acq = instools.create_inst(\n",
    "    acquisition_controllers.PostIQCtl, \n",
    "    'post_iq_acq', 'alazar',\n",
    "    allocate_samples=5e8, \n",
    "    force_new_instance=True,\n",
    ")\n",
    "station = add2station(station, post_iq_acq)\n",
    "post_iq_acq.demod_frq(25e6)\n",
    "post_iq_acq.reference_channel(1)\n",
    "\n",
    "# controller that can step frequencies during acquisition.\n",
    "softsweep_ctl = instools.create_inst(\n",
    "    ss.SoftSweepCtl,\n",
    "    'softsweep_ctl', 'alazar',\n",
    "    allocate_samples=5e8, \n",
    "    force_new_instance=True)\n",
    "station = add2station(station, softsweep_ctl)\n",
    "softsweep_ctl.demod_frq(25e6)\n",
    "softsweep_ctl.reference_channel(1)"
   ]
  },
  {
   "cell_type": "markdown",
   "metadata": {
    "ExecuteTime": {
     "end_time": "2019-02-07T10:44:08.580262Z",
     "start_time": "2019-02-07T10:44:08.570253Z"
    }
   },
   "source": [
    "## AWG sequences"
   ]
  },
  {
   "cell_type": "code",
   "execution_count": 8,
   "metadata": {
    "ExecuteTime": {
     "end_time": "2019-02-07T10:44:08.580262Z",
     "start_time": "2019-02-07T10:44:08.570253Z"
    }
   },
   "outputs": [],
   "source": [
    "from pytopo.rf.alazar.awg_sequences import TriggerSequence\n",
    "\n",
    "TriggerSequence.chan_map = {\n",
    "    1 : ['pulse', 'ats_trigger', 'ro_trigger'],\n",
    "}\n",
    "TriggerSequence.chan_settings = {\n",
    "    1 : {\n",
    "        'marker_hi' : [1.5, 1.5],\n",
    "        'marker_lo' : [-0.3, -0.3],\n",
    "        },\n",
    "    2 : {\n",
    "        'marker_hi' : [1.5, 1.5],\n",
    "        'marker_lo' : [-0.3, -0.3],\n",
    "        },\n",
    "}"
   ]
  },
  {
   "cell_type": "markdown",
   "metadata": {},
   "source": [
    "# Resonator spec"
   ]
  },
  {
   "cell_type": "code",
   "execution_count": 11,
   "metadata": {
    "ExecuteTime": {
     "end_time": "2019-02-07T10:45:33.602477Z",
     "start_time": "2019-02-07T10:45:18.550620Z"
    }
   },
   "outputs": [
    {
     "name": "stdout",
     "output_type": "stream",
     "text": [
      "Starting experimental run with id: 27\n",
      "Setup capture: 3194.88 MB total\n",
      " * Buffers: 8000 (0.39936 MB/buffer) | (Allocated buffers: 40 = 15.9744 MB)\n",
      " * Records: 1 (0.39936 MB/record)\n",
      " * Samples: 49920 (= 499.2 us)\n",
      " * Channels: 2\n",
      "Done! 200 (4.69950e+09)\r"
     ]
    }
   ],
   "source": [
    "fvals = np.arange(4600, 4700, 0.5) * 1e6\n",
    "\n",
    "softsweep_ctl.next_point_trigger_func = lambda: awg_tools.trigger_awg_when_ready(station.awg)\n",
    "softsweep_ctl.settling_time = 0.01\n",
    "\n",
    "ds = ss.measure_triggered_softsweep(\n",
    "    softsweep_ctl, station.hetsrc.frequency, fvals, integration_time=20e-3, channel=0,\n",
    ")"
   ]
  },
  {
   "cell_type": "code",
   "execution_count": 12,
   "metadata": {
    "ExecuteTime": {
     "end_time": "2019-02-07T10:48:55.995455Z",
     "start_time": "2019-02-07T10:45:52.750945Z"
    }
   },
   "outputs": [
    {
     "name": "stdout",
     "output_type": "stream",
     "text": [
      "Starting experimental run with id: 28\n",
      "Setup capture: 798.72 MB total\n",
      " * Buffers: 2000 (0.39936 MB/buffer) | (Allocated buffers: 10 = 3.9936 MB)\n",
      " * Records: 1 (0.39936 MB/record)\n",
      " * Samples: 49920 (= 499.2 us)\n",
      " * Channels: 2\n",
      "Done! 200 (4.69950e+09)\r"
     ]
    }
   ],
   "source": [
    "reps = qcodes.Parameter('repetition', set_cmd=None)\n",
    "\n",
    "ds = ss.measure_triggered_softsweep_vs_parameter(\n",
    "    softsweep_ctl, station.hetsrc.frequency, fvals, integration_time=5e-3, channel=0,\n",
    "    parameter=reps, values=np.arange(20.),\n",
    ")"
   ]
  },
  {
   "cell_type": "markdown",
   "metadata": {
    "heading_collapsed": true
   },
   "source": [
    "# Scratch"
   ]
  },
  {
   "cell_type": "code",
   "execution_count": null,
   "metadata": {
    "hidden": true
   },
   "outputs": [],
   "source": []
  },
  {
   "cell_type": "code",
   "execution_count": null,
   "metadata": {
    "ExecuteTime": {
     "end_time": "2019-02-06T13:34:42.584139Z",
     "start_time": "2019-02-06T13:34:32.728545Z"
    },
    "hidden": true
   },
   "outputs": [],
   "source": []
  },
  {
   "cell_type": "code",
   "execution_count": null,
   "metadata": {
    "ExecuteTime": {
     "end_time": "2019-02-05T17:55:09.606784Z",
     "start_time": "2019-02-05T17:55:09.601812Z"
    },
    "hidden": true
   },
   "outputs": [],
   "source": []
  },
  {
   "cell_type": "code",
   "execution_count": null,
   "metadata": {
    "hidden": true
   },
   "outputs": [],
   "source": []
  }
 ],
 "metadata": {
  "kernelspec": {
   "display_name": "Python 3",
   "language": "python",
   "name": "python3"
  },
  "language_info": {
   "codemirror_mode": {
    "name": "ipython",
    "version": 3
   },
   "file_extension": ".py",
   "mimetype": "text/x-python",
   "name": "python",
   "nbconvert_exporter": "python",
   "pygments_lexer": "ipython3",
   "version": "3.6.7"
  },
  "toc": {
   "base_numbering": 1,
   "nav_menu": {},
   "number_sections": true,
   "sideBar": true,
   "skip_h1_title": false,
   "title_cell": "Table of Contents",
   "title_sidebar": "Contents",
   "toc_cell": false,
   "toc_position": {
    "height": "calc(100% - 180px)",
    "left": "10px",
    "top": "150px",
    "width": "208.8px"
   },
   "toc_section_display": true,
   "toc_window_display": true
  }
 },
 "nbformat": 4,
 "nbformat_minor": 2
}
