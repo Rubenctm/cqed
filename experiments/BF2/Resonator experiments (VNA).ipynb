{
 "cells": [
  {
   "cell_type": "code",
   "execution_count": null,
   "metadata": {
    "ExecuteTime": {
     "end_time": "2019-02-05T18:45:54.643035Z",
     "start_time": "2019-02-05T18:45:54.003562Z"
    }
   },
   "outputs": [],
   "source": [
    "%matplotlib notebook\n",
    "\n",
    "import time\n",
    "\n",
    "from matplotlib import pyplot as plt\n",
    "from matplotlib import colors, cm\n",
    "import numpy as np"
   ]
  },
  {
   "cell_type": "code",
   "execution_count": null,
   "metadata": {
    "ExecuteTime": {
     "end_time": "2019-02-05T18:45:57.822249Z",
     "start_time": "2019-02-05T18:45:55.358506Z"
    }
   },
   "outputs": [],
   "source": [
    "import qcodes as qc\n",
    "from qcodes.dataset.experiment_container import new_experiment\n",
    "\n",
    "from pytopo.qctools import instruments as instools\n",
    "from pytopo.qctools.instruments import create_inst, add2station"
   ]
  },
  {
   "cell_type": "code",
   "execution_count": null,
   "metadata": {},
   "outputs": [],
   "source": []
  },
  {
   "cell_type": "markdown",
   "metadata": {},
   "source": [
    "# Init"
   ]
  },
  {
   "cell_type": "code",
   "execution_count": null,
   "metadata": {
    "ExecuteTime": {
     "end_time": "2019-02-05T18:46:39.059983Z",
     "start_time": "2019-02-05T18:46:38.714714Z"
    }
   },
   "outputs": [],
   "source": [
    "%run -i D:/OneDrive/BF2/Code/BF2/BF2/init_station.py\n",
    "%run -i D:/OneDrive/BF2/Code/BF2/BF2/init_station_cqedVNA.py"
   ]
  },
  {
   "cell_type": "code",
   "execution_count": null,
   "metadata": {
    "ExecuteTime": {
     "end_time": "2019-02-05T19:07:48.468012Z",
     "start_time": "2019-02-05T19:07:48.374929Z"
    }
   },
   "outputs": [],
   "source": [
    "from qcodes.instrument_drivers.rohde_schwarz.SGS100A import RohdeSchwarz_SGS100A\n",
    "TWPA = instools.create_inst(RohdeSchwarz_SGS100A, 'TWPA',\n",
    "                            address=\"TCPIP0::169.254.167.18\", force_new_instance=True)\n",
    "station = add2station(station, TWPA)"
   ]
  },
  {
   "cell_type": "markdown",
   "metadata": {},
   "source": [
    "## instruments"
   ]
  },
  {
   "cell_type": "code",
   "execution_count": null,
   "metadata": {
    "ExecuteTime": {
     "end_time": "2019-02-05T18:46:42.237194Z",
     "start_time": "2019-02-05T18:46:42.211149Z"
    }
   },
   "outputs": [],
   "source": [
    "vna = station.vna\n",
    "vna.clear_channels()\n",
    "vna.add_channel('S21')"
   ]
  },
  {
   "cell_type": "markdown",
   "metadata": {
    "ExecuteTime": {
     "end_time": "2019-02-05T12:00:52.582882Z",
     "start_time": "2019-02-05T12:00:52.569873Z"
    }
   },
   "source": [
    "# Measurement functions"
   ]
  },
  {
   "cell_type": "code",
   "execution_count": null,
   "metadata": {
    "ExecuteTime": {
     "end_time": "2019-02-05T19:08:24.135835Z",
     "start_time": "2019-02-05T19:08:24.102835Z"
    }
   },
   "outputs": [],
   "source": [
    "def configure_vna_trace(vna, chan_name='S21', **kw):\n",
    "    trace = getattr(vna.channels, chan_name)\n",
    "    for k, v in kw.items():\n",
    "        trace.set(k, v)\n",
    "    return trace\n",
    "        \n",
    "\n",
    "def take_vna_trace_logmag(vna, chan_name, **kw):\n",
    "    trace = configure_vna_trace(vna, chan_name, **kw)\n",
    "    vna.rf_on()\n",
    "    \n",
    "    f0, f1, nf = trace.start(), trace.stop(), trace.npts()\n",
    "    fvals = np.linspace(f0, f1, nf)\n",
    "    \n",
    "    mag, phase = trace.trace_mag_phase()\n",
    "    mag = 20*np.log10(mag)\n",
    "    \n",
    "    return fvals, mag, phase\n",
    "\n",
    "\n",
    "# qcodes measurement functions\n",
    "def measure_vna_trace(vna, chan_name, **trace_cfg):\n",
    "    sample = qc.config.user.get('current_sample')\n",
    "    \n",
    "    trace = configure_vna_trace(vna, 'S21', **trace_cfg)\n",
    "    \n",
    "    exp = qc.load_or_create_experiment(\n",
    "        f'VNA{chan_name}', sample\n",
    "    )\n",
    "    \n",
    "    meas = qc.Measurement(exp, station)\n",
    "    meas.register_custom_parameter('frequency', unit='Hz', \n",
    "                                   paramtype='array')\n",
    "    meas.register_custom_parameter('magnitude', unit='dB', \n",
    "                                   setpoints=('frequency',),\n",
    "                                   paramtype='array')\n",
    "    meas.register_custom_parameter('phase', unit='rad', \n",
    "                                   setpoints=('frequency',),\n",
    "                                   paramtype='array')\n",
    "    with meas.run() as datasaver:\n",
    "        fvals, mag, phase = take_vna_trace_logmag(vna, chan_name)\n",
    "        datasaver.add_result(\n",
    "            ('frequency', fvals),\n",
    "            ('magnitude', mag),\n",
    "            ('phase', phase),\n",
    "        )\n",
    "    \n",
    "    return datasaver.dataset\n",
    "\n",
    "\n",
    "def measure_vna_trace_vs_parameter(vna, chan_name, \n",
    "                                   parameter, parameter_vals, \n",
    "                                   **trace_cfg):\n",
    "    sample = qc.config.user.get('current_sample')\n",
    "    \n",
    "    trace = configure_vna_trace(vna, 'S21', **trace_cfg)\n",
    "    \n",
    "    exp = qc.load_or_create_experiment(\n",
    "        f'VNA{chan_name}_vs_{parameter.full_name}', sample\n",
    "    )\n",
    "    \n",
    "    meas = qc.Measurement(exp, station)\n",
    "    meas.register_parameter(parameter)\n",
    "    meas.register_custom_parameter('frequency', unit='Hz', \n",
    "                                   paramtype='array')\n",
    "    meas.register_custom_parameter('magnitude', unit='dB', \n",
    "                                   setpoints=(parameter, 'frequency',),\n",
    "                                   paramtype='array')\n",
    "    meas.register_custom_parameter('phase', unit='rad', \n",
    "                                   setpoints=(parameter, 'frequency',),\n",
    "                                   paramtype='array')\n",
    "    \n",
    "    with meas.run() as datasaver:\n",
    "        for v in parameter_vals:\n",
    "            parameter.set(v)\n",
    "            fvals, mag, phase = take_vna_trace_logmag(vna, chan_name)\n",
    "            datasaver.add_result(\n",
    "                (parameter, v),\n",
    "                ('frequency', fvals),\n",
    "                ('magnitude', mag),\n",
    "                ('phase', phase),\n",
    "            )\n",
    "\n",
    "    return datasaver.dataset"
   ]
  },
  {
   "cell_type": "code",
   "execution_count": null,
   "metadata": {},
   "outputs": [],
   "source": []
  },
  {
   "cell_type": "code",
   "execution_count": null,
   "metadata": {},
   "outputs": [],
   "source": []
  },
  {
   "cell_type": "markdown",
   "metadata": {},
   "source": [
    "# Simple VNA trace"
   ]
  },
  {
   "cell_type": "code",
   "execution_count": 1,
   "metadata": {
    "ExecuteTime": {
     "end_time": "2019-02-06T15:19:15.090012Z",
     "start_time": "2019-02-06T15:19:15.001955Z"
    }
   },
   "outputs": [
    {
     "ename": "NameError",
     "evalue": "name 'measure_vna_trace' is not defined",
     "output_type": "error",
     "traceback": [
      "\u001b[1;31m---------------------------------------------------------------------------\u001b[0m",
      "\u001b[1;31mNameError\u001b[0m                                 Traceback (most recent call last)",
      "\u001b[1;32m<ipython-input-1-cd9cc45f03fa>\u001b[0m in \u001b[0;36m<module>\u001b[1;34m\u001b[0m\n\u001b[1;32m----> 1\u001b[1;33m ds = measure_vna_trace(\n\u001b[0m\u001b[0;32m      2\u001b[0m     \u001b[0mvna\u001b[0m\u001b[1;33m,\u001b[0m \u001b[1;34m'S21'\u001b[0m\u001b[1;33m,\u001b[0m\u001b[1;33m\u001b[0m\u001b[1;33m\u001b[0m\u001b[0m\n\u001b[0;32m      3\u001b[0m     \u001b[0mstart\u001b[0m\u001b[1;33m=\u001b[0m\u001b[1;36m4.5e9\u001b[0m\u001b[1;33m,\u001b[0m \u001b[0mstop\u001b[0m\u001b[1;33m=\u001b[0m\u001b[1;36m5.0e9\u001b[0m\u001b[1;33m,\u001b[0m \u001b[0mnpts\u001b[0m\u001b[1;33m=\u001b[0m\u001b[1;36m1001\u001b[0m\u001b[1;33m,\u001b[0m\u001b[1;33m\u001b[0m\u001b[1;33m\u001b[0m\u001b[0m\n\u001b[0;32m      4\u001b[0m     \u001b[0mpower\u001b[0m\u001b[1;33m=\u001b[0m\u001b[1;33m-\u001b[0m\u001b[1;36m55\u001b[0m\u001b[1;33m,\u001b[0m \u001b[0mbandwidth\u001b[0m\u001b[1;33m=\u001b[0m\u001b[1;36m1e3\u001b[0m\u001b[1;33m,\u001b[0m \u001b[0mavg\u001b[0m\u001b[1;33m=\u001b[0m\u001b[1;36m10\u001b[0m\u001b[1;33m\u001b[0m\u001b[1;33m\u001b[0m\u001b[0m\n\u001b[0;32m      5\u001b[0m )\n",
      "\u001b[1;31mNameError\u001b[0m: name 'measure_vna_trace' is not defined"
     ]
    }
   ],
   "source": [
    "ds = measure_vna_trace(\n",
    "    vna, 'S21', \n",
    "    start=4.5e9, stop=5.0e9, npts=1001,\n",
    "    power=-55, bandwidth=1e3, avg=10\n",
    ")"
   ]
  },
  {
   "cell_type": "markdown",
   "metadata": {},
   "source": [
    "# VNA vs parameter"
   ]
  },
  {
   "cell_type": "code",
   "execution_count": null,
   "metadata": {
    "ExecuteTime": {
     "end_time": "2019-02-05T20:40:27.055569Z",
     "start_time": "2019-02-05T20:27:07.105674Z"
    }
   },
   "outputs": [],
   "source": [
    "ds = measure_vna_trace_vs_parameter(\n",
    "    vna, 'S21', \n",
    "    station.TWPA.power, np.arange(4., 8., 0.1),\n",
    "#     station.TWPA.frequency, np.arange(7950, 8200, 1.0)*1e6,\n",
    "    start=4.5e9, stop=5e9, npts=2001,\n",
    "    power=-55, bandwidth=1e3, avg=10,\n",
    ")"
   ]
  },
  {
   "cell_type": "code",
   "execution_count": null,
   "metadata": {},
   "outputs": [],
   "source": []
  },
  {
   "cell_type": "code",
   "execution_count": null,
   "metadata": {},
   "outputs": [],
   "source": []
  },
  {
   "cell_type": "code",
   "execution_count": null,
   "metadata": {},
   "outputs": [],
   "source": []
  },
  {
   "cell_type": "markdown",
   "metadata": {},
   "source": [
    "# Scratch"
   ]
  },
  {
   "cell_type": "code",
   "execution_count": null,
   "metadata": {},
   "outputs": [],
   "source": []
  }
 ],
 "metadata": {
  "kernelspec": {
   "display_name": "Python 3",
   "language": "python",
   "name": "python3"
  },
  "language_info": {
   "codemirror_mode": {
    "name": "ipython",
    "version": 3
   },
   "file_extension": ".py",
   "mimetype": "text/x-python",
   "name": "python",
   "nbconvert_exporter": "python",
   "pygments_lexer": "ipython3",
   "version": "3.6.7"
  },
  "toc": {
   "base_numbering": 1,
   "nav_menu": {},
   "number_sections": true,
   "sideBar": true,
   "skip_h1_title": false,
   "title_cell": "Table of Contents",
   "title_sidebar": "Contents",
   "toc_cell": false,
   "toc_position": {},
   "toc_section_display": true,
   "toc_window_display": true
  }
 },
 "nbformat": 4,
 "nbformat_minor": 2
}
