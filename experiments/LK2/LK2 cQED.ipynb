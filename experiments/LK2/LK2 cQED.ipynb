{
 "cells": [
  {
   "cell_type": "markdown",
   "metadata": {
    "toc": true
   },
   "source": [
    "<h1>Table of Contents<span class=\"tocSkip\"></span></h1>\n",
    "<div class=\"toc\"><ul class=\"toc-item\"><li><span><a href=\"#Imports-and-setting-up-the-code\" data-toc-modified-id=\"Imports-and-setting-up-the-code-1\"><span class=\"toc-item-num\">1&nbsp;&nbsp;</span>Imports and setting up the code</a></span></li><li><span><a href=\"#Initialize\" data-toc-modified-id=\"Initialize-2\"><span class=\"toc-item-num\">2&nbsp;&nbsp;</span>Initialize</a></span><ul class=\"toc-item\"><li><span><a href=\"#Global-settings\" data-toc-modified-id=\"Global-settings-2.1\"><span class=\"toc-item-num\">2.1&nbsp;&nbsp;</span>Global settings</a></span></li><li><span><a href=\"#Init-instruments\" data-toc-modified-id=\"Init-instruments-2.2\"><span class=\"toc-item-num\">2.2&nbsp;&nbsp;</span>Init instruments</a></span></li><li><span><a href=\"#Default-(instrument)-settings\" data-toc-modified-id=\"Default-(instrument)-settings-2.3\"><span class=\"toc-item-num\">2.3&nbsp;&nbsp;</span>Default (instrument) settings</a></span></li></ul></li><li><span><a href=\"#Spectroscopy\" data-toc-modified-id=\"Spectroscopy-3\"><span class=\"toc-item-num\">3&nbsp;&nbsp;</span>Spectroscopy</a></span><ul class=\"toc-item\"><li><span><a href=\"#CW-Readout-spec\" data-toc-modified-id=\"CW-Readout-spec-3.1\"><span class=\"toc-item-num\">3.1&nbsp;&nbsp;</span>CW Readout spec</a></span><ul class=\"toc-item\"><li><span><a href=\"#Some-timing-benchmark\" data-toc-modified-id=\"Some-timing-benchmark-3.1.1\"><span class=\"toc-item-num\">3.1.1&nbsp;&nbsp;</span>Some timing benchmark</a></span></li></ul></li><li><span><a href=\"#CW-two-tone-spectroscopy\" data-toc-modified-id=\"CW-two-tone-spectroscopy-3.2\"><span class=\"toc-item-num\">3.2&nbsp;&nbsp;</span>CW two-tone spectroscopy</a></span></li><li><span><a href=\"#SSB-two-tone-spec\" data-toc-modified-id=\"SSB-two-tone-spec-3.3\"><span class=\"toc-item-num\">3.3&nbsp;&nbsp;</span>SSB two tone spec</a></span></li></ul></li></ul></div>"
   ]
  },
  {
   "cell_type": "markdown",
   "metadata": {},
   "source": [
    "# Imports and setting up the code"
   ]
  },
  {
   "cell_type": "code",
   "execution_count": null,
   "metadata": {
    "ExecuteTime": {
     "end_time": "2018-07-23T13:28:40.192094Z",
     "start_time": "2018-07-23T13:28:39.869062Z"
    }
   },
   "outputs": [],
   "source": [
    "# %gui qt\n",
    "# %matplotlib qt\n",
    "\n",
    "import sys\n",
    "import os\n",
    "import time\n",
    "import logging\n",
    "from importlib import reload\n",
    "\n",
    "import numpy as np\n",
    "from matplotlib import pyplot as plt\n",
    "\n",
    "logger = logging.getLogger('cqed')\n",
    "logger.setLevel(logging.DEBUG)\n",
    "ch = logging.StreamHandler()\n",
    "ch.setLevel(logging.WARNING)\n",
    "\n",
    "formatter = logging.Formatter('%(asctime)s - %(name)s - %(levelname)s - %(message)s')\n",
    "ch.setFormatter(formatter)\n",
    "logger.addHandler(ch)"
   ]
  },
  {
   "cell_type": "code",
   "execution_count": null,
   "metadata": {
    "ExecuteTime": {
     "end_time": "2018-07-23T13:28:45.041579Z",
     "start_time": "2018-07-23T13:28:43.764451Z"
    }
   },
   "outputs": [],
   "source": [
    "import qcodes as qc\n",
    "import broadbean as bb\n",
    "from broadbean.plotting import plotter"
   ]
  },
  {
   "cell_type": "code",
   "execution_count": null,
   "metadata": {
    "ExecuteTime": {
     "end_time": "2018-07-23T13:28:45.057580Z",
     "start_time": "2018-07-23T13:28:45.043579Z"
    }
   },
   "outputs": [],
   "source": [
    "from pytopo.mplplots import init_nb_plotting; reload(init_nb_plotting)\n",
    "from pytopo.mplplots.init_nb_plotting import *\n",
    "from pytopo.mplplots import plots as mplplots"
   ]
  },
  {
   "cell_type": "code",
   "execution_count": null,
   "metadata": {
    "ExecuteTime": {
     "end_time": "2018-07-23T13:28:45.355610Z",
     "start_time": "2018-07-23T13:28:45.058580Z"
    }
   },
   "outputs": [],
   "source": [
    "from pytopo.qctools import instruments as instools; reload(instools)\n",
    "from pytopo.qctools.instruments import create_inst, add2station\n",
    "from pytopo.qctools.dataset2 import select_experiment\n",
    "from pytopo.qctools.measurement import MeasurementExt\n",
    "\n",
    "from pytopo.rf import alazar_detector; reload(alazar_detector)\n",
    "from pytopo.rf.alazar_detector import AlazarDetector\n",
    "\n",
    "from plottr import qcodes_dataset; reload(qcodes_dataset)\n",
    "from plottr.qcodes_dataset import QcodesDatasetSubscriber\n",
    "\n",
    "from cqed import broadbean; reload(broadbean)\n",
    "from cqed.broadbean import BroadBeanSequence, BluePrints\n",
    "\n",
    "from cqed import bb_sequences; reload(bb_sequences)\n",
    "from cqed.bb_sequences import TriggeredReadoutSequence, TwoToneSSBSequence"
   ]
  },
  {
   "cell_type": "markdown",
   "metadata": {},
   "source": [
    "# Initialize"
   ]
  },
  {
   "cell_type": "markdown",
   "metadata": {},
   "source": [
    "## Global settings"
   ]
  },
  {
   "cell_type": "code",
   "execution_count": null,
   "metadata": {
    "ExecuteTime": {
     "end_time": "2018-07-23T13:28:56.134688Z",
     "start_time": "2018-07-23T13:28:56.132688Z"
    }
   },
   "outputs": [],
   "source": [
    "SAMPLE = 'wrapgate_transmon_no1'"
   ]
  },
  {
   "cell_type": "code",
   "execution_count": null,
   "metadata": {
    "ExecuteTime": {
     "end_time": "2018-07-23T13:28:56.345709Z",
     "start_time": "2018-07-23T13:28:56.339708Z"
    }
   },
   "outputs": [],
   "source": [
    "qc.config['core']['db_location'] = \"f:\\OneDrive\\Setups\\LK2\\LK2_data\\experiments.db\"\n",
    "\n",
    "BroadBeanSequence.chan_map = {\n",
    "    1 : ['src_I', 'ro_trigger', 'ro_gate'],\n",
    "    2 : ['src_Q', 'src_gate', None],\n",
    "}\n",
    "BroadBeanSequence.chan_settings[1]['Vpp'] = 2.0\n",
    "BroadBeanSequence.chan_settings[2]['Vpp'] = 2.0\n",
    "\n",
    "BroadBeanSequence.sweep_wait = None\n",
    "\n",
    "TriggeredReadoutSequence.chan_map = {\n",
    "    1 : ['FILL.1', 'ro_trigger', 'ro_gate'],\n",
    "    2 : ['FILL.2', 'src_gate', None]\n",
    "}\n",
    "\n",
    "qc.dataset.database.initialise_database()"
   ]
  },
  {
   "cell_type": "markdown",
   "metadata": {},
   "source": [
    "## Init instruments"
   ]
  },
  {
   "cell_type": "code",
   "execution_count": null,
   "metadata": {
    "ExecuteTime": {
     "end_time": "2018-07-23T16:01:44.470294Z",
     "start_time": "2018-07-23T16:01:44.036251Z"
    },
    "scrolled": false
   },
   "outputs": [],
   "source": [
    "inst_list = []\n",
    "\n",
    "# Alazar\n",
    "from qcodes.instrument_drivers.AlazarTech import utils; reload(utils)\n",
    "from qcodes.instrument_drivers.AlazarTech import ATS9870; reload(ATS9870)\n",
    "from qcodes.instrument_drivers.AlazarTech.ATS9870 import AlazarTech_ATS9870\n",
    "alazar = instools.create_inst(AlazarTech_ATS9870, 'alazar', force_new_instance=True)\n",
    "inst_list.append(alazar)\n",
    "\n",
    "# Alazar aquisition controllers\n",
    "from pytopo.rf import alazar_acquisition; reload(alazar_acquisition)\n",
    "from pytopo.rf.alazar_acquisition import RawAcqCtl, AvgDemodCtl, AvgIQCtl\n",
    "\n",
    "raw_acq = instools.create_inst(RawAcqCtl, 'raw_acq', 'alazar', force_new_instance=True)\n",
    "inst_list.append(raw_acq)\n",
    "\n",
    "avgdemod_acq = instools.create_inst(AvgDemodCtl, 'avgdemod_acq', 'alazar', force_new_instance=True)\n",
    "inst_list.append(avgdemod_acq)\n",
    "\n",
    "avgiq_acq = instools.create_inst(AvgIQCtl, 'avgiq_acq', 'alazar', force_new_instance=True)\n",
    "inst_list.append(avgiq_acq)\n",
    "\n",
    "# RF sources\n",
    "from qcodes.instrument_drivers.rohde_schwarz.SGS100A import RohdeSchwarz_SGS100A\n",
    "LO = instools.create_inst(RohdeSchwarz_SGS100A, 'LO', address=\"TCPIP0::169.254.2.20\", force_new_instance=True)\n",
    "inst_list.append(LO)\n",
    "\n",
    "RF = instools.create_inst(RohdeSchwarz_SGS100A, 'RF', address=\"TCPIP0::169.254.144.157\", force_new_instance=True)\n",
    "inst_list.append(RF)\n",
    "\n",
    "TP = instools.create_inst(RohdeSchwarz_SGS100A, 'TP', address=\"TCPIP0::169.254.103.129\", force_new_instance=True)\n",
    "inst_list.append(TP)\n",
    "\n",
    "from qcodes.instrument_drivers.agilent.E8267C import E8267\n",
    "S1 = instools.create_inst(E8267, 'S1', address='GPIB::29::INSTR', force_new_instance=True)\n",
    "inst_list.append(S1)\n",
    "\n",
    "\n",
    "from pytopo.rf.sources import HeterodyneSource\n",
    "hetsrc = instools.create_inst(HeterodyneSource, 'hetsrc', RF=RF, LO=LO, force_new_instance=True)\n",
    "inst_list.append(hetsrc)\n",
    "\n",
    "# AWG and sequences\n",
    "from qcodes.instrument_drivers.tektronix.AWG5014 import Tektronix_AWG5014\n",
    "awg = instools.create_inst(Tektronix_AWG5014, 'awg', address='TCPIP0::169.254.65.64::inst0::INSTR', force_new_instance=True)\n",
    "inst_list.append(awg)\n",
    "\n",
    "station = qc.Station(*inst_list)"
   ]
  },
  {
   "cell_type": "markdown",
   "metadata": {},
   "source": [
    "## Default (instrument) settings"
   ]
  },
  {
   "cell_type": "code",
   "execution_count": null,
   "metadata": {
    "ExecuteTime": {
     "end_time": "2018-07-23T16:01:46.450492Z",
     "start_time": "2018-07-23T16:01:46.388486Z"
    }
   },
   "outputs": [],
   "source": [
    "with alazar.syncing():\n",
    "    alazar.clock_source('INTERNAL_CLOCK')\n",
    "    alazar.sample_rate(int(0.25e9))\n",
    "    alazar.clock_edge('CLOCK_EDGE_RISING')\n",
    "    alazar.external_sample_rate(int(1e9))\n",
    "    alazar.decimation(1)\n",
    "    alazar.coupling1('AC')\n",
    "    alazar.coupling2('AC')\n",
    "    alazar.channel_range1(0.1)\n",
    "    alazar.channel_range2(0.1)\n",
    "    alazar.impedance1(50)\n",
    "    alazar.impedance2(50)\n",
    "    alazar.trigger_source1('EXTERNAL')\n",
    "    alazar.trigger_level1(128 + 5)\n",
    "    alazar.external_trigger_coupling('DC')\n",
    "    alazar.external_trigger_range('ETR_5V')\n",
    "    alazar.trigger_delay(0)\n",
    "    alazar.timeout_ticks(int(1e7))\n",
    "    \n",
    "    \n",
    "hetsrc.frequency(5.5668e9)\n",
    "hetsrc.IF(25e6)\n",
    "hetsrc.RF.on()\n",
    "hetsrc.LO.on()\n",
    "hetsrc.RF.power(-70)\n",
    "hetsrc.LO.power(15)\n",
    "\n",
    "S1.power(15)\n",
    "S1.frequency(4.8e9)\n",
    "S1.modulation_rf('ON')\n",
    "S1.pulse_modulation_state('ON')\n",
    "S1.pulse_modulation_source('EXT')\n",
    "S1.output_rf('OFF')\n",
    "\n",
    "TP.on()\n",
    "\n",
    "def awg_trigger_func(do_start):\n",
    "    if do_start:\n",
    "        station.awg.start()\n",
    "    else:\n",
    "        station.awg.stop()\n",
    "        \n",
    "for ctl in [raw_acq, avgdemod_acq, avgiq_acq]:\n",
    "    ctl.trigger_func = awg_trigger_func"
   ]
  },
  {
   "cell_type": "markdown",
   "metadata": {},
   "source": [
    "# Spectroscopy"
   ]
  },
  {
   "cell_type": "markdown",
   "metadata": {},
   "source": [
    "## CW Readout spec"
   ]
  },
  {
   "cell_type": "code",
   "execution_count": null,
   "metadata": {
    "ExecuteTime": {
     "end_time": "2018-07-23T15:53:06.173962Z",
     "start_time": "2018-07-23T15:53:06.159962Z"
    }
   },
   "outputs": [],
   "source": [
    "### Spec frequencies\n",
    "rf_frqs = np.linspace(5.535e9, 5.585e9, 151)[:]\n",
    "\n",
    "\n",
    "\n",
    "### Setting up instruments\n",
    "\n",
    "# Alazar: use IQ detection (one point per trigger)\n",
    "# let the AWG run freely\n",
    "acq = avgiq_acq\n",
    "acq.trigger_func = None\n",
    "\n",
    "# create new instance of sequence and detector\n",
    "sequence = create_inst(TriggeredReadoutSequence, 'sequence', awg=awg, force_new_instance=True)\n",
    "# station = add2station(station, sequence)\n",
    "detector = create_inst(AlazarDetector, name='detector', acqctl=acq, force_new_instance=True)\n",
    "# station = add2station(station, detector)\n",
    "\n",
    "# RF free running, no qubit spec\n",
    "RF.pulsemod_state('off')\n",
    "RF.on()\n",
    "S1.output_rf('OFF')\n",
    "\n",
    "# configure the sequence parameters\n",
    "sequence.pre_trigger_delay(1e-6) # some delay at the beginning\n",
    "sequence.trigger_len(100e-9) # short trigger for the alazar\n",
    "sequence.seq_len(10e-6) # quick rep-rate is OK here\n",
    "sequence.setup(program_awg=False, start_awg=True) # program and start only if something else is running before\n",
    "\n",
    "# configure the Alazar detector\n",
    "detector.set_sweeper(sequence) # set the sequence (it's just one dummy sweep-point here)\n",
    "detector.demod_frq(hetsrc.IF()) # demod frequency from the sources\n",
    "detector.acq_time(100e-6) # not too long integration time ber buffer\n",
    "detector.configure_alazar(\n",
    "    records_per_buffer=1,\n",
    "    buffers_per_acquisition=20, # set averaging by choosing the number of buffers\n",
    ")\n",
    "detector.setup() # this makes sure all params are set correctly"
   ]
  },
  {
   "cell_type": "code",
   "execution_count": null,
   "metadata": {
    "ExecuteTime": {
     "end_time": "2018-07-23T15:57:47.427593Z",
     "start_time": "2018-07-23T15:53:23.014154Z"
    }
   },
   "outputs": [],
   "source": [
    "with alazar.syncing(): \n",
    "    alazar.trigger_source1('EXTERNAL') # make sure we trigger on the external trigger\n",
    "\n",
    "\n",
    "### Set up the measurement info\n",
    "exp = select_experiment('readout_spec', SAMPLE) # select experiment (info for the database)\n",
    "\n",
    "# need to make sure the sweep is correctly described in the beginning!\n",
    "meas = MeasurementExt(station, exp=exp, \n",
    "                      hard_sweep_detector=detector,\n",
    "                      soft_sweep_params=[\n",
    "                          hetsrc.frequency,\n",
    "                      ])\n",
    "\n",
    "# and finally, the measurement loop\n",
    "meas.write_period = 1 # how often to write to the DB [s]\n",
    "with meas.run() as datasaver:\n",
    "    \n",
    "    # this is to connect the database to the plottr.\n",
    "#     plot_subscriber = QcodesDatasetSubscriber(datasaver.dataset)\n",
    "#     datasaver.dataset.subscribe(plot_subscriber, state=[], min_wait=0, min_count=1,)\n",
    "    \n",
    "    for i in range(20):\n",
    "        # the loop itself is trivial\n",
    "        for f in rf_frqs:\n",
    "            hetsrc.frequency(f)\n",
    "            time.sleep(0.01)\n",
    "\n",
    "            detector.acquisition() # this gets the data from the alazar\n",
    "            datasaver.add_result(*meas.get_result()) # this adds all data to the datasaver."
   ]
  },
  {
   "cell_type": "markdown",
   "metadata": {},
   "source": [
    "### Some timing benchmark"
   ]
  },
  {
   "cell_type": "code",
   "execution_count": null,
   "metadata": {
    "ExecuteTime": {
     "end_time": "2018-07-22T18:27:30.731017Z",
     "start_time": "2018-07-22T18:27:30.568017Z"
    }
   },
   "outputs": [],
   "source": [
    "t0 = time.clock()\n",
    "detector.acquisition()\n",
    "print(time.clock()-t0)"
   ]
  },
  {
   "cell_type": "code",
   "execution_count": null,
   "metadata": {
    "ExecuteTime": {
     "end_time": "2018-07-23T15:52:22.455962Z",
     "start_time": "2018-07-23T15:52:02.346962Z"
    }
   },
   "outputs": [],
   "source": [
    "t0 = time.clock()\n",
    "for f in rf_frqs:\n",
    "    hetsrc.frequency(f)\n",
    "    time.sleep(0.01)\n",
    "    detector.acquisition()\n",
    "\n",
    "print(time.clock()-t0)"
   ]
  },
  {
   "cell_type": "code",
   "execution_count": null,
   "metadata": {},
   "outputs": [],
   "source": []
  },
  {
   "cell_type": "markdown",
   "metadata": {
    "ExecuteTime": {
     "end_time": "2018-07-17T14:28:15.718368Z",
     "start_time": "2018-07-17T14:28:15.715368Z"
    },
    "heading_collapsed": true
   },
   "source": [
    "## CW two-tone spectroscopy"
   ]
  },
  {
   "cell_type": "code",
   "execution_count": null,
   "metadata": {
    "hidden": true
   },
   "outputs": [],
   "source": [
    "### User settings\n",
    "\n",
    "# Spec frequencies\n",
    "spec_frqs = np.linspace(6.3e9, 6.6e9, 151)[:]\n",
    "\n",
    "# Detection frequency\n",
    "hetsrc.frequency(5.5668e9)\n",
    "\n",
    "\n",
    "\n",
    "### Setting up instruments\n",
    "\n",
    "# Alazar: use IQ detection (one point per trigger)\n",
    "# let the AWG run freely\n",
    "acq = avgiq_acq\n",
    "acq.trigger_func = None\n",
    "\n",
    "# create new instance of sequence and detector\n",
    "sequence = create_inst(TriggeredReadoutSequence, 'sequence', awg=awg, force_new_instance=True)\n",
    "# station = add2station(station, sequence)\n",
    "detector = create_inst(AlazarDetector, name='detector', acqctl=acq, force_new_instance=True)\n",
    "# station = add2station(station, detector)\n",
    "\n",
    "# RF free running, no qubit spec\n",
    "RF.pulsemod_state('off')\n",
    "RF.on()\n",
    "S1.output_rf('ON')\n",
    "S1.modulation_rf('OFF')\n",
    "S1.pulse_modulation_state('OFF')\n",
    "\n",
    "# configure the sequence parameters\n",
    "sequence.pre_trigger_delay(1e-6) # some delay at the beginning\n",
    "sequence.trigger_len(100e-9) # short trigger for the alazar\n",
    "sequence.seq_len(10e-6) # quick rep-rate is OK here\n",
    "sequence.setup(program_awg=False, start_awg=False) # program and start only if something else is running before\n",
    "\n",
    "# configure the Alazar detector\n",
    "detector.set_sweeper(sequence) # set the sequence (it's just one dummy sweep-point here)\n",
    "detector.demod_frq(hetsrc.IF()) # demod frequency from the sources\n",
    "detector.acq_time(100e-6) # not too long integration time ber buffer\n",
    "detector.configure_alazar(\n",
    "    records_per_buffer=1,\n",
    "    buffers_per_acquisition=400, # set averaging by choosing the number of buffers\n",
    "    buffer_timeout=1000,\n",
    "    allocated_buffers=100,\n",
    ")\n",
    "detector.setup() # this makes sure all params are set correctly\n",
    "\n",
    "### Set up the measurement info\n",
    "exp = select_experiment('readout_spec', SAMPLE) # select experiment (info for the database)\n",
    "\n",
    "# need to make sure the sweep is correctly described in the beginning!\n",
    "meas = MeasurementExt(station, exp=exp, \n",
    "                      hard_sweep_detector=detector,\n",
    "                      soft_sweep_params=[\n",
    "                          S1.frequency,\n",
    "                      ])\n",
    "\n",
    "# and finally, the measurement loop\n",
    "meas.write_period = 1 # how often to write to the DB [s]\n",
    "with meas.run() as datasaver:\n",
    "    \n",
    "    # this is to connect the database to the plottr.\n",
    "    plot_subscriber = QcodesDatasetSubscriber(datasaver.dataset)\n",
    "    datasaver.dataset.subscribe(plot_subscriber, state=[], min_wait=0, min_count=1,)\n",
    "    \n",
    "    # the loop itself is trivial\n",
    "    for f in spec_frqs:\n",
    "        S1.frequency(f)\n",
    "        time.sleep(0.01)\n",
    "\n",
    "        detector.acquisition() # this gets the data from the alazar\n",
    "        datasaver.add_result(*meas.get_result()) # this adds all data to the datasaver."
   ]
  },
  {
   "cell_type": "code",
   "execution_count": null,
   "metadata": {
    "hidden": true
   },
   "outputs": [],
   "source": []
  },
  {
   "cell_type": "markdown",
   "metadata": {},
   "source": [
    "## SSB two tone spec"
   ]
  },
  {
   "cell_type": "code",
   "execution_count": null,
   "metadata": {
    "ExecuteTime": {
     "end_time": "2018-07-23T16:10:28.262668Z",
     "start_time": "2018-07-23T16:10:28.242666Z"
    }
   },
   "outputs": [],
   "source": [
    "### User settings\n",
    "\n",
    "# Spec frequencies\n",
    "S1.frequency(6.1e9)\n",
    "S1.power(-25)\n",
    "ssb = (150e6, 300e6, 151)\n",
    "\n",
    "# Detection frequency\n",
    "hetsrc.frequency(5.5668e9)\n",
    "\n",
    "# integration time\n",
    "t_int = 2e-3 # total integration time per point\n",
    "seq_len = 20e-6 # length of an individual sequence element; reps will be computed from both.\n",
    "\n",
    "\n",
    "### Setting up instruments\n",
    "\n",
    "# Alazar: use IQ detection (one point per trigger)\n",
    "# let the AWG run freely\n",
    "acq = avgiq_acq # IQ detection\n",
    "# acq = avgdemod_acq # demod detection: box-car integrated (1 pt per IF period)\n",
    "acq.trigger_func = awg_trigger_func\n",
    "\n",
    "sequence = create_inst(TwoToneSSBSequence, name='sequence', awg=awg, force_new_instance=True)\n",
    "# station = add2station(station, sequence)\n",
    "detector = create_inst(AlazarDetector, name='detector', acqctl=acq, force_new_instance=True)\n",
    "# station = add2station(station, detector)\n",
    "\n",
    "S1.pulse_modulation_state('ON')\n",
    "S1.pulse_modulation_source('EXT')\n",
    "S1.modulation_rf('ON')\n",
    "S1.output_rf('ON')\n",
    "\n",
    "### Configure the sequence -- one frq is enough for checking...\n",
    "sequence.ssb_start(ssb[0])\n",
    "sequence.ssb_stop(ssb[1])\n",
    "sequence.ssb_steps(ssb[2])\n",
    "sequence.seq_len(seq_len)\n",
    "sequence.ssb_amp(0.75)\n",
    "sequence.setup(start_awg=False, program_awg=False)\n",
    "\n",
    "# configure the Alazar detector\n",
    "detector.set_sweeper(sequence) # set the sequence (it's just one dummy sweep-point here)\n",
    "detector.demod_frq(hetsrc.IF()) # demod frequency from the sources\n",
    "detector.acq_time(sequence.seq_len() - 3e-6) # not too long integration time ber buffer\n",
    "detector.configure_alazar(\n",
    "    records_per_buffer=int(np.prod(sequence.sweep_shape)),\n",
    "    buffers_per_acquisition=int(t_int/seq_len), # set averaging by choosing the number of buffers\n",
    "    buffer_timeout=1000,\n",
    "    allocated_buffers=100\n",
    ")\n",
    "detector.setup() # this makes sure all params are set correctly"
   ]
  },
  {
   "cell_type": "code",
   "execution_count": null,
   "metadata": {
    "ExecuteTime": {
     "end_time": "2018-07-23T16:11:40.384880Z",
     "start_time": "2018-07-23T16:11:04.868329Z"
    },
    "scrolled": false
   },
   "outputs": [],
   "source": [
    "### Set up the measurement info\n",
    "exp = select_experiment('ssb_2tone_spec', SAMPLE) # select experiment (info for the database)\n",
    "\n",
    "# need to make sure the sweep is correctly described in the beginning!\n",
    "meas = MeasurementExt(station=None, exp=exp, \n",
    "                      hard_sweep_detector=detector,\n",
    "                      soft_sweep_params=[])\n",
    "\n",
    "# and finally, the measurement loop\n",
    "meas.write_period = 5 # how often to write to the DB [s]\n",
    "with meas.run() as datasaver:\n",
    "    \n",
    "    # this is to connect the database to the plottr.\n",
    "#     plot_subscriber = QcodesDatasetSubscriber(datasaver.dataset)\n",
    "#     datasaver.dataset.subscribe(plot_subscriber, state=[], min_wait=0, min_count=1,)\n",
    "\n",
    "    for i in range(20):\n",
    "\n",
    "        detector.acquisition() # this gets the data from the alazar\n",
    "        datasaver.add_result(*meas.get_result()) # this adds all data to the datasaver."
   ]
  },
  {
   "cell_type": "code",
   "execution_count": null,
   "metadata": {
    "ExecuteTime": {
     "end_time": "2018-07-23T16:13:04.284269Z",
     "start_time": "2018-07-23T16:12:49.143755Z"
    }
   },
   "outputs": [],
   "source": [
    "for i in range(20):\n",
    "    data = detector.acquisition()"
   ]
  },
  {
   "cell_type": "code",
   "execution_count": null,
   "metadata": {},
   "outputs": [],
   "source": []
  }
 ],
 "metadata": {
  "kernelspec": {
   "display_name": "Python 3",
   "language": "python",
   "name": "python3"
  },
  "language_info": {
   "codemirror_mode": {
    "name": "ipython",
    "version": 3
   },
   "file_extension": ".py",
   "mimetype": "text/x-python",
   "name": "python",
   "nbconvert_exporter": "python",
   "pygments_lexer": "ipython3",
   "version": "3.6.6"
  },
  "toc": {
   "base_numbering": 1,
   "nav_menu": {},
   "number_sections": true,
   "sideBar": true,
   "skip_h1_title": false,
   "title_cell": "Table of Contents",
   "title_sidebar": "Contents",
   "toc_cell": true,
   "toc_position": {},
   "toc_section_display": true,
   "toc_window_display": true
  }
 },
 "nbformat": 4,
 "nbformat_minor": 2
}
