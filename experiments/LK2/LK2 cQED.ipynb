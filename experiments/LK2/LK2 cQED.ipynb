{
 "cells": [
  {
   "cell_type": "markdown",
   "metadata": {
    "toc": true
   },
   "source": [
    "<h1>Table of Contents<span class=\"tocSkip\"></span></h1>\n",
    "<div class=\"toc\"><ul class=\"toc-item\"><li><span><a href=\"#Imports-and-setting-up-the-code\" data-toc-modified-id=\"Imports-and-setting-up-the-code-1\"><span class=\"toc-item-num\">1&nbsp;&nbsp;</span>Imports and setting up the code</a></span></li><li><span><a href=\"#Initialize\" data-toc-modified-id=\"Initialize-2\"><span class=\"toc-item-num\">2&nbsp;&nbsp;</span>Initialize</a></span><ul class=\"toc-item\"><li><span><a href=\"#Global-settings\" data-toc-modified-id=\"Global-settings-2.1\"><span class=\"toc-item-num\">2.1&nbsp;&nbsp;</span>Global settings</a></span></li><li><span><a href=\"#Init-instruments\" data-toc-modified-id=\"Init-instruments-2.2\"><span class=\"toc-item-num\">2.2&nbsp;&nbsp;</span>Init instruments</a></span></li><li><span><a href=\"#Default-(instrument)-settings\" data-toc-modified-id=\"Default-(instrument)-settings-2.3\"><span class=\"toc-item-num\">2.3&nbsp;&nbsp;</span>Default (instrument) settings</a></span></li></ul></li><li><span><a href=\"#Spectroscopy\" data-toc-modified-id=\"Spectroscopy-3\"><span class=\"toc-item-num\">3&nbsp;&nbsp;</span>Spectroscopy</a></span><ul class=\"toc-item\"><li><span><a href=\"#CW-Readout-spec\" data-toc-modified-id=\"CW-Readout-spec-3.1\"><span class=\"toc-item-num\">3.1&nbsp;&nbsp;</span>CW Readout spec</a></span></li></ul></li></ul></div>"
   ]
  },
  {
   "cell_type": "markdown",
   "metadata": {},
   "source": [
    "# Imports and setting up the code"
   ]
  },
  {
   "cell_type": "code",
   "execution_count": 1,
   "metadata": {
    "ExecuteTime": {
     "end_time": "2018-07-17T16:12:53.892182Z",
     "start_time": "2018-07-17T16:12:49.235251Z"
    }
   },
   "outputs": [],
   "source": [
    "# %gui qt\n",
    "# %matplotlib qt\n",
    "\n",
    "import sys\n",
    "import os\n",
    "import time\n",
    "import logging\n",
    "from importlib import reload\n",
    "\n",
    "import numpy as np\n",
    "from matplotlib import pyplot as plt\n",
    "\n",
    "logger = logging.getLogger('cqed')\n",
    "logger.setLevel(logging.DEBUG)\n",
    "ch = logging.StreamHandler()\n",
    "ch.setLevel(logging.WARNING)\n",
    "\n",
    "formatter = logging.Formatter('%(asctime)s - %(name)s - %(levelname)s - %(message)s')\n",
    "ch.setFormatter(formatter)\n",
    "logger.addHandler(ch)"
   ]
  },
  {
   "cell_type": "code",
   "execution_count": 2,
   "metadata": {
    "ExecuteTime": {
     "end_time": "2018-07-17T16:13:04.534310Z",
     "start_time": "2018-07-17T16:12:55.457495Z"
    }
   },
   "outputs": [],
   "source": [
    "import qcodes as qc\n",
    "import broadbean as bb\n",
    "from broadbean.plotting import plotter"
   ]
  },
  {
   "cell_type": "code",
   "execution_count": 3,
   "metadata": {
    "ExecuteTime": {
     "end_time": "2018-07-17T16:13:28.999202Z",
     "start_time": "2018-07-17T16:13:28.926188Z"
    }
   },
   "outputs": [],
   "source": [
    "from pytopo.mplplots import init_nb_plotting; reload(init_nb_plotting)\n",
    "from pytopo.mplplots.init_nb_plotting import *\n",
    "from pytopo.mplplots import plots as mplplots"
   ]
  },
  {
   "cell_type": "code",
   "execution_count": 47,
   "metadata": {
    "ExecuteTime": {
     "end_time": "2018-07-17T17:53:54.878872Z",
     "start_time": "2018-07-17T17:53:54.868871Z"
    }
   },
   "outputs": [],
   "source": [
    "from pytopo.qctools import instruments as instools; reload(instools)\n",
    "from pytopo.qctools.instruments import create_inst, add2station\n",
    "from pytopo.qctools.dataset2 import select_experiment\n",
    "from pytopo.qctools.measurement import MeasurementExt\n",
    "\n",
    "from pytopo.rf import alazar_detector; reload(alazar_detector)\n",
    "from pytopo.rf.alazar_detector import AlazarDetector\n",
    "\n",
    "from plottr import qcodes_dataset; reload(qcodes_dataset)\n",
    "from plottr.qcodes_dataset import QcodesDatasetSubscriber\n",
    "\n",
    "from cqed import broadbean; reload(broadbean)\n",
    "from cqed.broadbean import BroadBeanSequence, BluePrints\n",
    "\n",
    "from cqed import bb_sequences; reload(bb_sequences)\n",
    "from cqed.bb_sequences import TriggeredReadoutSequence, TwoToneSSBSequence"
   ]
  },
  {
   "cell_type": "markdown",
   "metadata": {},
   "source": [
    "# Initialize"
   ]
  },
  {
   "cell_type": "markdown",
   "metadata": {},
   "source": [
    "## Global settings"
   ]
  },
  {
   "cell_type": "code",
   "execution_count": 5,
   "metadata": {
    "ExecuteTime": {
     "end_time": "2018-07-17T16:13:38.690140Z",
     "start_time": "2018-07-17T16:13:38.687140Z"
    }
   },
   "outputs": [],
   "source": [
    "SAMPLE = 'wrapgate_transmon_no1'"
   ]
  },
  {
   "cell_type": "code",
   "execution_count": 48,
   "metadata": {
    "ExecuteTime": {
     "end_time": "2018-07-17T17:53:56.993083Z",
     "start_time": "2018-07-17T17:53:56.988083Z"
    }
   },
   "outputs": [],
   "source": [
    "qc.config['core']['db_location'] = \"f:\\OneDrive\\Setups\\LK2\\LK2_data\\experiments.db\"\n",
    "\n",
    "BroadBeanSequence.chan_map = {\n",
    "    1 : ['src_I', 'ro_trigger', 'ro_gate'],\n",
    "    2 : ['src_Q', 'src_gate', None],\n",
    "}\n",
    "BroadBeanSequence.chan_settings[1]['Vpp'] = 2.0\n",
    "BroadBeanSequence.chan_settings[2]['Vpp'] = 2.0\n",
    "\n",
    "BroadBeanSequence.sweep_wait = None\n",
    "\n",
    "TriggeredReadoutSequence.chan_map = {\n",
    "    1 : ['FILL.1', 'ro_trigger', 'ro_gate'],\n",
    "#     2 : ['FILL.2', 'src_gate', None]\n",
    "}\n",
    "\n",
    "qc.dataset.database.initialise_database()"
   ]
  },
  {
   "cell_type": "markdown",
   "metadata": {},
   "source": [
    "## Init instruments"
   ]
  },
  {
   "cell_type": "code",
   "execution_count": 7,
   "metadata": {
    "ExecuteTime": {
     "end_time": "2018-07-17T16:13:45.767555Z",
     "start_time": "2018-07-17T16:13:41.735749Z"
    }
   },
   "outputs": [
    {
     "name": "stdout",
     "output_type": "stream",
     "text": [
      "Connected to: Rohde&Schwarz SGS100A (serial:1416.0505k02/110512, firmware:3.1.19.15-3.50.124.67) in 0.48s\n",
      "Connected to: Rohde&Schwarz SGS100A (serial:1416.0505k02/110511, firmware:3.1.19.15-3.50.124.67) in 0.04s\n",
      "Connected to: Rohde&Schwarz SGS100A (serial:1416.0505k02/110432, firmware:3.1.19.15-3.50.124.67) in 0.02s\n",
      "Connected to: Agilent Technologies E8267C (serial:US42340172, firmware:C.03.85) in 0.12s\n",
      "Connected to: TEKTRONIX AWG5014C (serial:B050346, firmware:SCPI:99.0 FW:4.6.0.7) in 0.05s\n"
     ]
    }
   ],
   "source": [
    "inst_list = []\n",
    "\n",
    "# Alazar\n",
    "from qcodes.instrument_drivers.AlazarTech import utils; reload(utils)\n",
    "from qcodes.instrument_drivers.AlazarTech import ATS9870; reload(ATS9870)\n",
    "from qcodes.instrument_drivers.AlazarTech.ATS9870 import AlazarTech_ATS9870\n",
    "alazar = instools.create_inst(AlazarTech_ATS9870, 'alazar', force_new_instance=True)\n",
    "inst_list.append(alazar)\n",
    "\n",
    "# Alazar aquisition controllers\n",
    "from pytopo.rf import alazar_acquisition; reload(alazar_acquisition)\n",
    "from pytopo.rf.alazar_acquisition import RawAcqCtl, AvgDemodCtl, AvgIQCtl\n",
    "\n",
    "raw_acq = instools.create_inst(RawAcqCtl, 'raw_acq', 'alazar', force_new_instance=True)\n",
    "inst_list.append(raw_acq)\n",
    "\n",
    "avgdemod_acq = instools.create_inst(AvgDemodCtl, 'avgdemod_acq', 'alazar', force_new_instance=True)\n",
    "inst_list.append(avgdemod_acq)\n",
    "\n",
    "avgiq_acq = instools.create_inst(AvgIQCtl, 'avgiq_acq', 'alazar', force_new_instance=True)\n",
    "inst_list.append(avgiq_acq)\n",
    "\n",
    "# RF sources\n",
    "from qcodes.instrument_drivers.rohde_schwarz.SGS100A import RohdeSchwarz_SGS100A\n",
    "LO = instools.create_inst(RohdeSchwarz_SGS100A, 'LO', address=\"TCPIP0::169.254.2.20\", force_new_instance=True)\n",
    "inst_list.append(LO)\n",
    "\n",
    "RF = instools.create_inst(RohdeSchwarz_SGS100A, 'RF', address=\"TCPIP0::169.254.144.157\", force_new_instance=True)\n",
    "inst_list.append(RF)\n",
    "\n",
    "TP = instools.create_inst(RohdeSchwarz_SGS100A, 'TP', address=\"TCPIP0::169.254.103.129\", force_new_instance=True)\n",
    "inst_list.append(TP)\n",
    "\n",
    "from qcodes.instrument_drivers.agilent.E8267C import E8267\n",
    "S1 = instools.create_inst(E8267, 'S1', address='GPIB::29::INSTR', force_new_instance=True)\n",
    "inst_list.append(S1)\n",
    "\n",
    "\n",
    "from pytopo.rf.sources import HeterodyneSource\n",
    "hetsrc = instools.create_inst(HeterodyneSource, 'hetsrc', RF=RF, LO=LO, force_new_instance=True)\n",
    "inst_list.append(hetsrc)\n",
    "\n",
    "# AWG and sequences\n",
    "from qcodes.instrument_drivers.tektronix.AWG5014 import Tektronix_AWG5014\n",
    "awg = instools.create_inst(Tektronix_AWG5014, 'awg', address='TCPIP0::169.254.65.64::inst0::INSTR', force_new_instance=True)\n",
    "inst_list.append(awg)\n",
    "\n",
    "station = qc.Station(*inst_list)"
   ]
  },
  {
   "cell_type": "markdown",
   "metadata": {},
   "source": [
    "## Default (instrument) settings"
   ]
  },
  {
   "cell_type": "code",
   "execution_count": 8,
   "metadata": {
    "ExecuteTime": {
     "end_time": "2018-07-17T16:13:48.028007Z",
     "start_time": "2018-07-17T16:13:47.967995Z"
    }
   },
   "outputs": [
    {
     "name": "stderr",
     "output_type": "stream",
     "text": [
      "f:\\onedrive\\setups\\lk2\\lk2_code\\code\\qcodes\\qcodes\\instrument_drivers\\AlazarTech\\ATS.py:522: UserWarning: Using Internal clock but parameter external_sample_rate is set.This will have no effect and is ignored\n",
      "  warnings.warn(\"Using Internal clock but parameter external_sample_rate is set.\"\n"
     ]
    }
   ],
   "source": [
    "with alazar.syncing():\n",
    "    alazar.clock_source('INTERNAL_CLOCK')\n",
    "    alazar.sample_rate(int(0.25e9))\n",
    "    alazar.clock_edge('CLOCK_EDGE_RISING')\n",
    "    alazar.external_sample_rate(int(1e9))\n",
    "    alazar.decimation(1)\n",
    "    alazar.coupling1('AC')\n",
    "    alazar.coupling2('AC')\n",
    "    alazar.channel_range1(0.1)\n",
    "    alazar.channel_range2(0.1)\n",
    "    alazar.impedance1(50)\n",
    "    alazar.impedance2(50)\n",
    "    alazar.trigger_source1('CHANNEL_A')\n",
    "    alazar.trigger_level1(128 + 5)\n",
    "    alazar.external_trigger_coupling('DC')\n",
    "    alazar.external_trigger_range('ETR_5V')\n",
    "    alazar.trigger_delay(0)\n",
    "    alazar.timeout_ticks(int(1e7))\n",
    "    \n",
    "    \n",
    "hetsrc.frequency(5.5668e9)\n",
    "hetsrc.IF(25e6)\n",
    "hetsrc.RF.on()\n",
    "hetsrc.LO.on()\n",
    "hetsrc.RF.power(-70)\n",
    "hetsrc.LO.power(15)\n",
    "\n",
    "S1.power(15)\n",
    "S1.frequency(4.8e9)\n",
    "S1.modulation_rf('ON')\n",
    "S1.pulse_modulation_state('ON')\n",
    "S1.pulse_modulation_source('EXT')\n",
    "S1.output_rf('OFF')\n",
    "\n",
    "def awg_trigger_func(do_start):\n",
    "    if do_start:\n",
    "        station.awg.start()\n",
    "    else:\n",
    "        station.awg.stop()\n",
    "        \n",
    "for ctl in [raw_acq, avgdemod_acq, avgiq_acq]:\n",
    "    ctl.trigger_func = awg_trigger_func"
   ]
  },
  {
   "cell_type": "markdown",
   "metadata": {},
   "source": [
    "# Spectroscopy"
   ]
  },
  {
   "cell_type": "markdown",
   "metadata": {},
   "source": [
    "## CW Readout spec"
   ]
  },
  {
   "cell_type": "code",
   "execution_count": 50,
   "metadata": {
    "ExecuteTime": {
     "end_time": "2018-07-17T17:54:41.453529Z",
     "start_time": "2018-07-17T17:54:10.741458Z"
    }
   },
   "outputs": [
    {
     "name": "stdout",
     "output_type": "stream",
     "text": [
      "Instrument sequence already exists.\n",
      "Instrument detector already exists.\n"
     ]
    },
    {
     "name": "stderr",
     "output_type": "stream",
     "text": [
      "f:\\onedrive\\setups\\lk2\\lk2_code\\code\\qcodes\\qcodes\\instrument_drivers\\AlazarTech\\ATS.py:522: UserWarning: Using Internal clock but parameter external_sample_rate is set.This will have no effect and is ignored\n",
      "  warnings.warn(\"Using Internal clock but parameter external_sample_rate is set.\"\n"
     ]
    },
    {
     "name": "stdout",
     "output_type": "stream",
     "text": [
      "Starting experimental run with id: 20\n"
     ]
    }
   ],
   "source": [
    "### Spec frequencies\n",
    "rf_frqs = np.linspace(5.5e9, 5.6e9, 101)[:]\n",
    "\n",
    "\n",
    "### Setting up instruments\n",
    "\n",
    "# create new instance of sequence and detector\n",
    "sequence = create_inst(TriggeredReadoutSequence, 'sequence', awg=awg, force_new_instance=True)\n",
    "station = add2station(station, sequence)\n",
    "detector = create_inst(AlazarDetector, name='detector', acqctl=acq, force_new_instance=True)\n",
    "station = add2station(station, detector)\n",
    "\n",
    "# Alazar: use IQ detection (one point per trigger)\n",
    "# let the AWG run freely\n",
    "acq = avgiq_acq\n",
    "acq.trigger_func = None\n",
    "\n",
    "# RF free running\n",
    "RF.pulsemod_state('off')\n",
    "RF.on()\n",
    "\n",
    "# configure the sequence parameters\n",
    "sequence.pre_trigger_delay(1e-6) # some delay at the beginning\n",
    "sequence.trigger_len(100e-9) # short trigger for the alazar\n",
    "sequence.seq_len(10e-6) # quick rep-rate is OK here\n",
    "sequence.setup(program_awg=False, start_awg=False) # program and start only if something else is running before\n",
    "\n",
    "# configure the Alazar detector\n",
    "detector.set_sweeper(sequence) # set the sequence (it's just one dummy sweep-point here)\n",
    "detector.demod_frq(hetsrc.IF()) # demod frequency from the sources\n",
    "detector.acq_time(100e-6) # not too long integration time ber buffer\n",
    "detector.configure_alazar(\n",
    "    records_per_buffer=1,\n",
    "    buffers_per_acquisition=400, # set averaging by choosing the number of buffers\n",
    ")\n",
    "detector.setup() # this makes sure all params are set correctly\n",
    "\n",
    "with alazar.syncing(): \n",
    "    alazar.trigger_source1('EXTERNAL') # make sure we trigger on the external trigger\n",
    "    \n",
    "\n",
    "### Set up the measurement info\n",
    "exp = select_experiment('readout_spec', SAMPLE) # select experiment (info for the database)\n",
    "\n",
    "# need to make sure the sweep is correctly described in the beginning!\n",
    "meas = MeasurementExt(station, exp=exp, \n",
    "                      hard_sweep_detector=detector,\n",
    "                      soft_sweep_params=[\n",
    "                          hetsrc.frequency,\n",
    "                      ])\n",
    "\n",
    "# and finally, the measurement loop\n",
    "meas.write_period = 2 # how often to write to the DB [s]\n",
    "with meas.run() as datasaver:\n",
    "    \n",
    "    # this is to connect the database to the plottr.\n",
    "    plot_subscriber = QcodesDatasetSubscriber(datasaver.dataset)\n",
    "    datasaver.dataset.subscribe(plot_subscriber, state=[])\n",
    "    \n",
    "    # the loop itself is trivial\n",
    "    for f in rf_frqs:\n",
    "        hetsrc.frequency(f)\n",
    "        time.sleep(0.01)\n",
    "\n",
    "        detector.acquisition() # this gets the data from the alazar\n",
    "        datasaver.add_result(*meas.get_result()) # this adds all data to the datasaver."
   ]
  },
  {
   "cell_type": "code",
   "execution_count": null,
   "metadata": {},
   "outputs": [],
   "source": []
  },
  {
   "cell_type": "code",
   "execution_count": null,
   "metadata": {
    "ExecuteTime": {
     "end_time": "2018-07-17T14:28:15.718368Z",
     "start_time": "2018-07-17T14:28:15.715368Z"
    }
   },
   "outputs": [],
   "source": []
  },
  {
   "cell_type": "code",
   "execution_count": null,
   "metadata": {},
   "outputs": [],
   "source": []
  }
 ],
 "metadata": {
  "kernelspec": {
   "display_name": "Python 3",
   "language": "python",
   "name": "python3"
  },
  "language_info": {
   "codemirror_mode": {
    "name": "ipython",
    "version": 3
   },
   "file_extension": ".py",
   "mimetype": "text/x-python",
   "name": "python",
   "nbconvert_exporter": "python",
   "pygments_lexer": "ipython3",
   "version": "3.6.6"
  },
  "toc": {
   "base_numbering": 1,
   "nav_menu": {},
   "number_sections": true,
   "sideBar": true,
   "skip_h1_title": false,
   "title_cell": "Table of Contents",
   "title_sidebar": "Contents",
   "toc_cell": true,
   "toc_position": {},
   "toc_section_display": true,
   "toc_window_display": true
  }
 },
 "nbformat": 4,
 "nbformat_minor": 2
}
