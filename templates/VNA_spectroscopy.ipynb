{
 "cells": [
  {
   "cell_type": "markdown",
   "metadata": {},
   "source": [
    "# Imports"
   ]
  },
  {
   "cell_type": "code",
   "execution_count": 2,
   "metadata": {
    "ExecuteTime": {
     "end_time": "2019-12-02T13:43:32.571863Z",
     "start_time": "2019-12-02T13:43:28.742536Z"
    }
   },
   "outputs": [
    {
     "name": "stderr",
     "output_type": "stream",
     "text": [
      "C:\\ProgramData\\Anaconda3\\lib\\site-packages\\qcodes\\dataset\\sqlite_base.py:51: UserWarning: The module `qcodes.dataset.sqlite_base` is deprecated.\n",
      "Public features are available at the import of `qcodes`.\n",
      "Private features are available in `qcodes.dataset.sqlite.*` modules.\n",
      "  warnings.warn('The module `qcodes.dataset.sqlite_base` is deprecated.\\n'\n"
     ]
    }
   ],
   "source": [
    "import pysweep\n",
    "import pysweep.databackends.debug\n",
    "import pysweep.databackends.list_backend\n",
    "import pysweep.databackends.qcodes\n",
    "import pysweep.core.measurementfunctions\n",
    "from pysweep.core.sweepobject import SweepObject\n",
    "from pysweep.core.measurementfunctions import MakeMeasurementFunction\n",
    "from pysweep.databackends.base import DataParameterFixedAxis\n",
    "from pysweep.databackends.base import DataParameter\n",
    "import pysweep.convenience as conv\n",
    "\n",
    "from pytopo.qctools.dataset2 import select_experiment\n",
    "\n",
    "import qcodes as qc\n",
    "from qcodes.dataset.measurements import Measurement\n",
    "from qcodes.utils.validators import Ints, Numbers\n",
    "from qcodes.math.field_vector import FieldVector\n",
    "import qcodes.dataset.plotting\n",
    "\n",
    "from time import sleep\n",
    "import numpy as np\n",
    "import pandas as pd\n",
    "\n",
    "\n",
    "import matplotlib.pyplot as plt"
   ]
  },
  {
   "cell_type": "code",
   "execution_count": null,
   "metadata": {
    "ExecuteTime": {
     "end_time": "2019-12-02T12:45:52.456140Z",
     "start_time": "2019-12-02T12:45:52.436154Z"
    }
   },
   "outputs": [],
   "source": [
    "def mirror_measurement_dir_to_data_dir(db_name='experiments.db'):\n",
    "    from pathlib import Path\n",
    "    db_directory = Path('D:/Data')\n",
    "    curr_path = Path.cwd()\n",
    "    parts_curr_path = curr_path.parts       \n",
    "    dest_dir = Path(db_directory, *parts_curr_path[-2:])\n",
    "    dest_dir = Path(str(dest_dir).replace(' ', '_'))\n",
    "    if not dest_dir.exists():\n",
    "        dest_dir.mkdir(parents=True)\n",
    "    dest_path = Path(dest_dir, db_name)\n",
    "    qc.initialise_or_create_database_at(dest_path)\n",
    "    qc.config['core']['db_location'] = dest_path"
   ]
  },
  {
   "cell_type": "code",
   "execution_count": null,
   "metadata": {
    "ExecuteTime": {
     "end_time": "2019-12-02T12:45:52.475133Z",
     "start_time": "2019-12-02T12:45:52.461140Z"
    }
   },
   "outputs": [],
   "source": [
    "def create_local_dbase_in(folder_name='general', db_name='experiments.db'):\n",
    "    \"\"\"    \n",
    "    Initialise or create a QCoDeS database in D:/Data/folder_name/db_name \n",
    "    If the directory does not exist, it is created.\n",
    "    \n",
    "    Inputs:\n",
    "    folder_name (str): Name of the subfolder in D:/Data where db is stored. \n",
    "                       Can also be a path to a subfolder, e.g. general/sample1 leads to db in D:/Data/general/sample1 \n",
    "    db_name (str):     Name of database, including .db\n",
    "    \"\"\"\n",
    "    from pathlib import Path\n",
    "    \n",
    "    dest_dir = Path(r'D:/Data', folder_name)\n",
    "    if not dest_dir.exists():\n",
    "        dest_dir.mkdir(parents=True)        \n",
    "    dest_path = Path(dest_dir, db_name)\n",
    "    qc.initialise_or_create_database_at(dest_path)\n",
    "    qc.config['core']['db_location'] = dest_path"
   ]
  },
  {
   "cell_type": "markdown",
   "metadata": {},
   "source": [
    "# Setup of database and station"
   ]
  },
  {
   "cell_type": "markdown",
   "metadata": {},
   "source": [
    "## Set up measurement station"
   ]
  },
  {
   "cell_type": "markdown",
   "metadata": {},
   "source": [
    "for now, we keep the initalisation file <br>\n",
    "**TODO:** move station import to YAML file  <br>\n",
    "https://qcodes.github.io/Qcodes/examples/Station.html#Using-Station-with-a-YAML-configuration-file"
   ]
  },
  {
   "cell_type": "markdown",
   "metadata": {},
   "source": [
    "### K1"
   ]
  },
  {
   "cell_type": "code",
   "execution_count": null,
   "metadata": {
    "ExecuteTime": {
     "end_time": "2019-11-27T08:56:19.721093Z",
     "start_time": "2019-11-27T08:56:19.716096Z"
    }
   },
   "outputs": [],
   "source": []
  },
  {
   "cell_type": "markdown",
   "metadata": {},
   "source": [
    "### K2"
   ]
  },
  {
   "cell_type": "code",
   "execution_count": null,
   "metadata": {
    "ExecuteTime": {
     "end_time": "2019-12-02T12:52:09.278401Z",
     "start_time": "2019-12-02T12:52:03.985Z"
    }
   },
   "outputs": [],
   "source": [
    "%run -i \"D:\\OneDrive\\Setups\\LK2\\LK2_code\\Code\\LK2\\LK2\\init_station_VNA.py\""
   ]
  },
  {
   "cell_type": "code",
   "execution_count": null,
   "metadata": {
    "ExecuteTime": {
     "end_time": "2019-12-02T12:52:09.281402Z",
     "start_time": "2019-12-02T12:52:03.986Z"
    }
   },
   "outputs": [],
   "source": [
    "from qcodes_contrib_drivers.drivers.QuTech.IVVI import IVVI\n",
    "ivvi = create_inst(IVVI, 'ivvi', address='ASRL4', numdacs=16, force_new_instance=True)"
   ]
  },
  {
   "cell_type": "code",
   "execution_count": null,
   "metadata": {
    "ExecuteTime": {
     "end_time": "2019-12-02T12:52:09.284401Z",
     "start_time": "2019-12-02T12:52:03.988Z"
    }
   },
   "outputs": [],
   "source": [
    "station.add_component(ivvi)"
   ]
  },
  {
   "cell_type": "markdown",
   "metadata": {},
   "source": [
    "### small addition to VNA, to be able to set electrical delay via software"
   ]
  },
  {
   "cell_type": "markdown",
   "metadata": {},
   "source": [
    "These functions are redundant from qcodes 0.9.0"
   ]
  },
  {
   "cell_type": "code",
   "execution_count": null,
   "metadata": {
    "ExecuteTime": {
     "end_time": "2019-12-02T12:52:09.285398Z",
     "start_time": "2019-12-02T12:52:03.989Z"
    }
   },
   "outputs": [],
   "source": [
    "station.vna.S21.add_parameter(name='electrical_delay', \n",
    "                              get_cmd='SENS1:CORR:EDEL2:TIME?',\n",
    "                              set_cmd='SENS1:CORR:EDEL2:TIME {}',\n",
    "                              get_parser=float,\n",
    "                              unit = 's')"
   ]
  },
  {
   "cell_type": "code",
   "execution_count": null,
   "metadata": {
    "ExecuteTime": {
     "end_time": "2019-12-02T12:52:09.287397Z",
     "start_time": "2019-12-02T12:52:03.992Z"
    }
   },
   "outputs": [],
   "source": [
    "station.vna.S21.add_function('set_electrical_delay_auto',\n",
    "                            call_cmd='SENS1:CORR:EDEL:AUTO ONCE')"
   ]
  },
  {
   "cell_type": "markdown",
   "metadata": {},
   "source": [
    "## Generate database on drive D:/Data/ and name your sample"
   ]
  },
  {
   "cell_type": "code",
   "execution_count": null,
   "metadata": {
    "ExecuteTime": {
     "end_time": "2019-12-02T12:52:09.288396Z",
     "start_time": "2019-12-02T12:52:03.993Z"
    }
   },
   "outputs": [],
   "source": [
    "sample_name = '191106_35nm_4p2_d2'\n",
    "create_local_dbase_in(folder_name='pTdetection/sample1', db_name='%s.db' %(sample_name))"
   ]
  },
  {
   "cell_type": "code",
   "execution_count": null,
   "metadata": {
    "ExecuteTime": {
     "end_time": "2019-12-02T12:52:09.290396Z",
     "start_time": "2019-12-02T12:52:03.995Z"
    }
   },
   "outputs": [],
   "source": [
    "qc.config['core']['db_location']"
   ]
  },
  {
   "cell_type": "markdown",
   "metadata": {},
   "source": [
    "# Define pysweep measurement functions"
   ]
  },
  {
   "cell_type": "code",
   "execution_count": null,
   "metadata": {
    "ExecuteTime": {
     "end_time": "2019-12-02T12:52:09.291395Z",
     "start_time": "2019-12-02T12:52:03.997Z"
    }
   },
   "outputs": [],
   "source": [
    "pysweep.STATION = station"
   ]
  },
  {
   "cell_type": "code",
   "execution_count": null,
   "metadata": {
    "ExecuteTime": {
     "end_time": "2019-12-02T12:52:09.293394Z",
     "start_time": "2019-12-02T12:52:03.999Z"
    }
   },
   "outputs": [],
   "source": [
    "# Function called before beginning of measurement loop.\n",
    "def init_measurement(d):\n",
    "    station.vna.S21.avg(1)\n",
    "    \n",
    "# Function called after the end of the measurement.\n",
    "def end_measurement(d):\n",
    "    pass"
   ]
  },
  {
   "cell_type": "code",
   "execution_count": null,
   "metadata": {
    "ExecuteTime": {
     "end_time": "2019-12-02T12:52:09.294394Z",
     "start_time": "2019-12-02T12:52:04.001Z"
    }
   },
   "outputs": [],
   "source": [
    "@MakeMeasurementFunction([pysweep.DataParameter('frequency','Hz', 'array', True),\n",
    "                          pysweep.DataParameter('amplitude', '', 'array'), \n",
    "                          pysweep.DataParameter('phase', 'rad', 'array')])\n",
    "def return_vna_trace(d):\n",
    "    freqs = np.linspace(station.vna.S21.start(),station.vna.S21.stop(), station.vna.S21.npts())\n",
    "    if not station.vna.rf_power():\n",
    "        station.vna.rf_on()\n",
    "    vna_data = station.vna.S21.trace_mag_phase()\n",
    "    return [freqs, vna_data[0], vna_data[1]]"
   ]
  },
  {
   "cell_type": "markdown",
   "metadata": {},
   "source": [
    "# Single VNA trace"
   ]
  },
  {
   "cell_type": "code",
   "execution_count": null,
   "metadata": {
    "ExecuteTime": {
     "end_time": "2019-11-27T15:51:34.150158Z",
     "start_time": "2019-11-27T15:51:34.144161Z"
    }
   },
   "outputs": [],
   "source": [
    "# Function called before beginning of measurement loop.\n",
    "def init_measurement(d):\n",
    "    station.vna.S21.avg(3)\n",
    "    station.vna.S21.power(-20)\n",
    "    station.vna.S21.bandwidth(1000)\n",
    "    \n",
    "    \n",
    "    vna = qc.Station.default.vna\n",
    "    trace = getattr(vna.channels, 'S21')\n",
    "    \n",
    "    trace.center(4.912e9)\n",
    "    trace.span(40e6)\n",
    "    trace.npts(2019)\n",
    "    \n",
    "    station.vna.S21.set_electrical_delay_auto()\n",
    "    \n",
    "    \n",
    "# Function called after the end of the measurement.\n",
    "def end_measurement(d):\n",
    "    pass"
   ]
  },
  {
   "cell_type": "code",
   "execution_count": null,
   "metadata": {
    "ExecuteTime": {
     "end_time": "2019-11-28T15:08:25.782837Z",
     "start_time": "2019-11-28T15:08:06.320417Z"
    }
   },
   "outputs": [],
   "source": [
    "exp=select_experiment('VNA_trace', 'NbTiN_4p9')\n",
    "meas = Measurement(exp, station)\n",
    "\n",
    "r = pysweep.sweep(init_measurement, end_measurement, return_vna_trace,\n",
    "                 databackend = pysweep.databackends.qcodes.DataBackend(meas))"
   ]
  },
  {
   "cell_type": "code",
   "execution_count": null,
   "metadata": {
    "ExecuteTime": {
     "end_time": "2019-11-27T08:28:06.022548Z",
     "start_time": "2019-11-27T08:28:05.574758Z"
    }
   },
   "outputs": [],
   "source": [
    "qc.dataset.plotting.plot_dataset(r.datasaver.dataset)"
   ]
  },
  {
   "cell_type": "markdown",
   "metadata": {},
   "source": [
    "# Gate sweep"
   ]
  },
  {
   "cell_type": "code",
   "execution_count": null,
   "metadata": {
    "ExecuteTime": {
     "end_time": "2019-11-25T22:15:55.337559Z",
     "start_time": "2019-11-25T22:15:55.332561Z"
    }
   },
   "outputs": [],
   "source": [
    "# Function called before beginning of measurement loop.\n",
    "def init_measurement(d):\n",
    "    station.vna.S21.avg(3)\n",
    "    station.vna.S21.power(-20)\n",
    "    \n",
    "    vna = qc.Station.default.vna\n",
    "    trace = getattr(vna.channels, 'S21')\n",
    "    \n",
    "    trace.center(10.0e9)\n",
    "    trace.span(5.0e9)\n",
    "    trace.npts(8000)\n",
    "    \n",
    "    \n",
    "# Function called after the end of the measurement.\n",
    "def end_measurement(d):\n",
    "    pass"
   ]
  },
  {
   "cell_type": "code",
   "execution_count": null,
   "metadata": {
    "ExecuteTime": {
     "end_time": "2019-11-27T09:15:09.503467Z",
     "start_time": "2019-11-27T09:15:08.678114Z"
    }
   },
   "outputs": [],
   "source": [
    "ivvi.set_dacs_zero()"
   ]
  },
  {
   "cell_type": "code",
   "execution_count": null,
   "metadata": {
    "ExecuteTime": {
     "end_time": "2019-11-28T15:06:33.991183Z",
     "start_time": "2019-11-28T15:06:33.983187Z"
    }
   },
   "outputs": [],
   "source": [
    "np.arange(-20, -15, 5)"
   ]
  },
  {
   "cell_type": "code",
   "execution_count": null,
   "metadata": {
    "ExecuteTime": {
     "end_time": "2019-11-25T21:05:02.771408Z",
     "start_time": "2019-11-25T20:47:36.143371Z"
    }
   },
   "outputs": [],
   "source": [
    "exp=select_experiment('VNA_vs_matrix_1_3', 'full_spectrum_upper')\n",
    "meas = Measurement(exp, station)\n",
    "\n",
    "r = pysweep.sweep(init_measurement, end_measurement, return_vna_trace, \n",
    "                  pysweep.sweep_object(ivvi.dac1, np.arange(-2000., 2050., 100)),\n",
    "                  databackend = pysweep.databackends.qcodes.DataBackend(meas))"
   ]
  },
  {
   "cell_type": "markdown",
   "metadata": {},
   "source": [
    "# Power sweep"
   ]
  },
  {
   "cell_type": "code",
   "execution_count": null,
   "metadata": {
    "ExecuteTime": {
     "end_time": "2019-11-27T08:24:14.417835Z",
     "start_time": "2019-11-27T08:24:14.412837Z"
    }
   },
   "outputs": [],
   "source": [
    "# Function called before beginning of measurement loop.\n",
    "def init_measurement(d):\n",
    "    station.vna.S21.avg(1)\n",
    "    station.vna.S21.power(-20)\n",
    "    station.vna.S21\n",
    "    \n",
    "    vna = qc.Station.default.vna\n",
    "    trace = getattr(vna.channels, 'S21')\n",
    "    \n",
    "    trace.center(4.912e9)\n",
    "    trace.span(50e6)\n",
    "    trace.npts(2019)\n",
    "    \n",
    "    \n",
    "# Function called after the end of the measurement.\n",
    "def end_measurement(d):\n",
    "    pass"
   ]
  },
  {
   "cell_type": "code",
   "execution_count": null,
   "metadata": {
    "ExecuteTime": {
     "end_time": "2019-11-26T12:54:18.744942Z",
     "start_time": "2019-11-26T12:54:08.502365Z"
    }
   },
   "outputs": [],
   "source": [
    "exp=select_experiment('VNA_vs_pwr', 'NbTiN_4p9')\n",
    "meas = Measurement(exp, station)\n",
    "\n",
    "r = pysweep.sweep(init_measurement, end_measurement, return_vna_trace, \n",
    "                  pysweep.sweep_object(station.vna.S21.power, np.arange(-20, -15, 1)),\n",
    "                  databackend = pysweep.databackends.qcodes.DataBackend(meas))"
   ]
  },
  {
   "cell_type": "markdown",
   "metadata": {},
   "source": [
    "# Magnetic field sweep"
   ]
  },
  {
   "cell_type": "markdown",
   "metadata": {
    "ExecuteTime": {
     "end_time": "2019-11-26T14:38:12.973005Z",
     "start_time": "2019-11-26T14:38:12.970008Z"
    }
   },
   "source": [
    "## x, y, z setup"
   ]
  },
  {
   "cell_type": "code",
   "execution_count": null,
   "metadata": {
    "ExecuteTime": {
     "end_time": "2019-12-01T15:38:14.423043Z",
     "start_time": "2019-12-01T15:38:14.305100Z"
    }
   },
   "outputs": [],
   "source": [
    "station.mgnt.field_ramp_rate(FieldVector(x=3e-3, y=3e-3, z=3e-3))"
   ]
  },
  {
   "cell_type": "code",
   "execution_count": null,
   "metadata": {
    "ExecuteTime": {
     "end_time": "2019-12-01T17:07:47.989908Z",
     "start_time": "2019-12-01T17:07:47.796079Z"
    }
   },
   "outputs": [],
   "source": [
    "print(station.mgnt.x_measured())\n",
    "print(station.mgnt.y_measured())\n",
    "print(station.mgnt.z_measured())"
   ]
  },
  {
   "cell_type": "code",
   "execution_count": null,
   "metadata": {
    "ExecuteTime": {
     "end_time": "2019-12-01T17:07:45.469991Z",
     "start_time": "2019-12-01T17:07:37.732544Z"
    }
   },
   "outputs": [],
   "source": [
    "station.mgnt.x_target(0.0e-3)\n",
    "station.mgnt.y_target(0.0e-3)\n",
    "station.mgnt.z_target(0.1e-3)\n",
    "\n",
    "station.mgnt.ramp(mode='safe')"
   ]
  },
  {
   "cell_type": "code",
   "execution_count": null,
   "metadata": {
    "ExecuteTime": {
     "end_time": "2019-11-27T17:06:42.015064Z",
     "start_time": "2019-11-27T17:06:41.853099Z"
    }
   },
   "outputs": [],
   "source": [
    "print(station.mgnt.r_measured())\n",
    "print(station.mgnt.phi_measured())\n",
    "print(station.mgnt.theta_measured())"
   ]
  },
  {
   "cell_type": "code",
   "execution_count": null,
   "metadata": {
    "ExecuteTime": {
     "end_time": "2019-11-27T17:04:32.089232Z",
     "start_time": "2019-11-27T17:03:16.698967Z"
    }
   },
   "outputs": [],
   "source": [
    "station.mgnt.r_target(10.0e-3)\n",
    "station.mgnt.phi_target(-180)\n",
    "station.mgnt.theta_target(3)\n",
    "\n",
    "station.mgnt.ramp(mode='safe')"
   ]
  },
  {
   "cell_type": "markdown",
   "metadata": {},
   "source": [
    "## phi sweep"
   ]
  },
  {
   "cell_type": "markdown",
   "metadata": {},
   "source": [
    "### Damaz test bench"
   ]
  },
  {
   "cell_type": "code",
   "execution_count": null,
   "metadata": {
    "ExecuteTime": {
     "end_time": "2019-12-01T17:11:17.308696Z",
     "start_time": "2019-12-01T17:11:17.302699Z"
    }
   },
   "outputs": [],
   "source": [
    "# Track the magnet movement \n",
    "@MakeMeasurementFunction([pysweep.DataParameter(name='x', unit='T'), \n",
    "                          pysweep.DataParameter(name='y', unit='T'),\n",
    "                          pysweep.DataParameter(name='z', unit='T')])\n",
    "\n",
    "def measure_magnet_orientation(d):\n",
    "    x_meas = station.mgnt.x_measured()\n",
    "    y_meas = station.mgnt.y_measured()\n",
    "    z_meas = station.mgnt.z_measured()\n",
    "    return [x_meas, y_meas, z_meas] "
   ]
  },
  {
   "cell_type": "code",
   "execution_count": null,
   "metadata": {
    "ExecuteTime": {
     "end_time": "2019-12-01T17:11:19.301820Z",
     "start_time": "2019-12-01T17:11:19.292823Z"
    }
   },
   "outputs": [],
   "source": [
    "def sweep_phi(r, theta, points):\n",
    "    @MakeMeasurementFunction([])\n",
    "    def point_function(d):\n",
    "        return points, []\n",
    "    \n",
    "    @MakeMeasurementFunction([])\n",
    "    def set_function(phi, d):\n",
    "        # Here we use the ISO 80000-2:2009 physics convention for the (r, theta, phi) <--> (x, y, z) definition. \n",
    "        # Note that r is the radial distance, theta the inclination and phi the azimuth (in-plane) angle. \n",
    "        # For uniqueness, we restrict the parameter choice to r>=0, 0<= theta <= pi and 0<= phi <= 2pi. \n",
    "        # The units are: r in T, theta in degrees, phi in degrees. \n",
    "        \n",
    "        assert 1.>r>0., 'The radial distance must be lager than 0. For safty, r<1T Change setting!' \n",
    "        assert 0.<=theta<=180., 'The inclination angle must be equal or lager than 0 and smaller or equal than 180. Change setting!'  \n",
    "        assert 0.<=phi<=2*180., 'The azimuth angle must be equal or lager than 0 and smaller or equal than 360. Change setting!'  \n",
    "     \n",
    "        station.mgnt.field_ramp_rate(FieldVector(x=3e-3, y=3e-3, z=3e-3))\n",
    "        \n",
    "        x = r*np.sin(np.radians(theta))*np.cos(np.radians(phi))\n",
    "        y = r*np.sin(np.radians(theta))*np.sin(np.radians(phi))\n",
    "        z = r*np.cos(np.radians(theta))        \n",
    "        \n",
    "        station.mgnt.x_target(x)\n",
    "        station.mgnt.y_target(y)\n",
    "        station.mgnt.z_target(z)\n",
    "\n",
    "        station.mgnt.ramp(mode='safe')\n",
    "        \n",
    "        return []\n",
    "    \n",
    "    return SweepObject(set_function = set_function, unit = \"degrees\", label = \"phi_var\", point_function = point_function, dataparameter=None )"
   ]
  },
  {
   "cell_type": "code",
   "execution_count": null,
   "metadata": {
    "ExecuteTime": {
     "end_time": "2019-12-01T17:11:49.291233Z",
     "start_time": "2019-12-01T17:11:49.285236Z"
    }
   },
   "outputs": [],
   "source": [
    "# Function called before beginning of measurement loop.\n",
    "def init_measurement(d):\n",
    "    station.vna.S21.avg(1)\n",
    "    station.vna.S21.power(-15)\n",
    "    station.vna.S21.bandwidth(100)    \n",
    "    station.vna.S21.set_electrical_delay_auto()\n",
    "    \n",
    "    vna = qc.Station.default.vna\n",
    "    trace = getattr(vna.channels, 'S21')\n",
    "    \n",
    "    trace.center(4.912e9)\n",
    "    trace.span(40e6)\n",
    "    trace.npts(2019)\n",
    "    \n",
    "    station.mgnt.field_ramp_rate(FieldVector(x=3e-3, y=3e-3, z=3e-3))\n",
    "   \n",
    "    \n",
    "# Function called after the end of the measurement.\n",
    "def end_measurement(d):\n",
    "    pass"
   ]
  },
  {
   "cell_type": "code",
   "execution_count": null,
   "metadata": {
    "ExecuteTime": {
     "end_time": "2019-12-01T17:44:08.332577Z",
     "start_time": "2019-12-01T17:12:04.636203Z"
    },
    "scrolled": true
   },
   "outputs": [],
   "source": [
    "exp=select_experiment('VNA_vs_mgnt-phi', 'NbTiN_4p9')\n",
    "meas = Measurement(exp, station)\n",
    "\n",
    "r = pysweep.sweep(init_measurement, end_measurement, measure_magnet_orientation + return_vna_trace, \n",
    "                  sweep_phi(r = 20.0e-3, theta = 5, points = np.arange(0,360, 5)),\n",
    "                  databackend = pysweep.databackends.qcodes.DataBackend(meas))"
   ]
  },
  {
   "cell_type": "code",
   "execution_count": null,
   "metadata": {
    "ExecuteTime": {
     "end_time": "2019-12-02T08:32:44.443126Z",
     "start_time": "2019-12-02T08:32:41.629416Z"
    }
   },
   "outputs": [],
   "source": [
    "qc.dataset.plotting.plot_dataset(r.datasaver.dataset)"
   ]
  },
  {
   "cell_type": "markdown",
   "metadata": {},
   "source": [
    "## r sweep"
   ]
  },
  {
   "cell_type": "code",
   "execution_count": null,
   "metadata": {
    "ExecuteTime": {
     "end_time": "2019-12-01T15:43:56.671247Z",
     "start_time": "2019-12-01T15:43:56.664251Z"
    }
   },
   "outputs": [],
   "source": [
    "# Function called before beginning of measurement loop.\n",
    "def init_measurement(d):\n",
    "    station.vna.S21.avg(1)\n",
    "    station.vna.S21.power(-15)\n",
    "    station.vna.S21.bandwidth(100)    \n",
    "    station.vna.S21.set_electrical_delay_auto()\n",
    "    \n",
    "    vna = qc.Station.default.vna\n",
    "    trace = getattr(vna.channels, 'S21')\n",
    "    \n",
    "    trace.center(4.912e9)\n",
    "    trace.span(40e6)\n",
    "    trace.npts(2019)\n",
    "    \n",
    "    station.mgnt.field_ramp_rate(FieldVector(x=3e-3, y=3e-3, z=3e-3))\n",
    "   \n",
    "    \n",
    "# Function called after the end of the measurement.\n",
    "def end_measurement(d):\n",
    "    pass"
   ]
  },
  {
   "cell_type": "code",
   "execution_count": null,
   "metadata": {
    "ExecuteTime": {
     "end_time": "2019-11-27T17:02:40.492102Z",
     "start_time": "2019-11-27T16:43:39.101109Z"
    }
   },
   "outputs": [],
   "source": [
    "exp=select_experiment('VNA_vs_mgnt-r', 'NbTiN_4p9')\n",
    "meas = Measurement(exp, station)\n",
    "\n",
    "r = pysweep.sweep(init_measurement, end_measurement, return_vna_trace, \n",
    "                  pysweep.sweep_object(station.mgnt.r_ramp, np.arange(station.mgnt.r_measured(), 250.0e-3, 5.0e-3)),\n",
    "                  databackend = pysweep.databackends.qcodes.DataBackend(meas))"
   ]
  },
  {
   "cell_type": "code",
   "execution_count": null,
   "metadata": {
    "ExecuteTime": {
     "end_time": "2019-11-27T10:29:37.529483Z",
     "start_time": "2019-11-27T10:29:35.991202Z"
    }
   },
   "outputs": [],
   "source": [
    "qc.dataset.plotting.plot_dataset(r.datasaver.dataset)"
   ]
  },
  {
   "cell_type": "markdown",
   "metadata": {},
   "source": [
    "## theta sweep"
   ]
  },
  {
   "cell_type": "code",
   "execution_count": null,
   "metadata": {
    "ExecuteTime": {
     "end_time": "2019-11-27T14:03:11.054116Z",
     "start_time": "2019-11-27T14:03:11.047120Z"
    }
   },
   "outputs": [],
   "source": [
    "# Function called before beginning of measurement loop.\n",
    "def init_measurement(d):\n",
    "    station.vna.S21.avg(3)\n",
    "    station.vna.S21.power(-20)\n",
    "    station.vna.S21.bandwidth(1000)    \n",
    "    \n",
    "    vna = qc.Station.default.vna\n",
    "    trace = getattr(vna.channels, 'S21')\n",
    "    \n",
    "    trace.center(4.912e9)\n",
    "    trace.span(40e6)\n",
    "    trace.npts(2019)\n",
    "    \n",
    "    station.mgnt.field_ramp_rate(FieldVector(x=3e-3, y=3e-3, z=3e-3))\n",
    "    \n",
    "    station.vna.S21.set_electrical_delay_auto('Thanks to Lukas the GREAT')\n",
    "    \n",
    "    \n",
    "# Function called after the end of the measurement.\n",
    "def end_measurement(d):\n",
    "    pass"
   ]
  },
  {
   "cell_type": "code",
   "execution_count": null,
   "metadata": {
    "ExecuteTime": {
     "end_time": "2019-11-27T14:05:29.640517Z",
     "start_time": "2019-11-27T14:03:14.431555Z"
    }
   },
   "outputs": [],
   "source": [
    "exp=select_experiment('VNA_vs_mgnt-theta', 'NbTiN_4p9')\n",
    "meas = Measurement(exp, station)\n",
    "\n",
    "r = pysweep.sweep(init_measurement, end_measurement, return_vna_trace, \n",
    "                  pysweep.sweep_object(station.mgnt.theta_ramp, np.arange(-5, 5., 1.)),\n",
    "                  databackend = pysweep.databackends.qcodes.DataBackend(meas))"
   ]
  },
  {
   "cell_type": "code",
   "execution_count": null,
   "metadata": {
    "ExecuteTime": {
     "end_time": "2019-11-27T14:05:30.465153Z",
     "start_time": "2019-11-27T14:05:29.643514Z"
    }
   },
   "outputs": [],
   "source": [
    "qc.dataset.plotting.plot_dataset(r.datasaver.dataset)"
   ]
  },
  {
   "cell_type": "markdown",
   "metadata": {},
   "source": [
    "# Sandbox"
   ]
  },
  {
   "cell_type": "code",
   "execution_count": null,
   "metadata": {
    "ExecuteTime": {
     "end_time": "2019-11-25T16:22:19.887720Z",
     "start_time": "2019-11-25T16:22:19.878724Z"
    }
   },
   "outputs": [],
   "source": [
    "def measure_vna_trace(station, sample_name=None, exp_name=None, fit_resonator=False, chan='S21'):\n",
    "    \"\"\"\n",
    "    Measure a single VNA trace as currently set up.\n",
    "    Default measurement is S21.\n",
    "    \"\"\"\n",
    "    def get_freq_ax():\n",
    "        return np.linspace(trace.start(), trace.stop(). trace.npts())\n",
    "    \n",
    "    if exp_name is None:\n",
    "        exp_name = 'VNA_trace'\n",
    "\n",
    "    exp = qc.load_or_create_experiment(experiment_name=exp_name, sample_name=sample_name)\n",
    "        \n",
    "    trace = getattr(station.vna.channels, chan)    \n",
    "    freqs = qc.ManualParameter('frequency', unit='Hz', set=None, initial_value=np.linspace(t.start(), t.stop(), t.npts()))\n",
    "    vna_data = qc.MultiParameter('vna_data', names=('amplitude', 'phase'), units=('', 'rad'), shapes=((),()), get=trace.trace_mag_phase())\n",
    "    \n",
    "    meas = qc.Measurement(exp=exp_name, station=station)\n",
    "    meas.register_parameter(freqs)\n",
    "    meas.register_parameter(vna_data, setpoints=(freqs, ))\n",
    "    \n",
    "    with meas.run() as datasaver:\n",
    "        datasaver.add_result((freqs, freqs()),\n",
    "                             (vna_data, trace.mag_phase()))"
   ]
  },
  {
   "cell_type": "code",
   "execution_count": null,
   "metadata": {},
   "outputs": [],
   "source": []
  }
 ],
 "metadata": {
  "celltoolbar": "Initialization Cell",
  "kernelspec": {
   "display_name": "Python 3",
   "language": "python",
   "name": "python3"
  },
  "language_info": {
   "codemirror_mode": {
    "name": "ipython",
    "version": 3
   },
   "file_extension": ".py",
   "mimetype": "text/x-python",
   "name": "python",
   "nbconvert_exporter": "python",
   "pygments_lexer": "ipython3",
   "version": "3.7.3"
  },
  "toc": {
   "base_numbering": 1,
   "nav_menu": {},
   "number_sections": true,
   "sideBar": true,
   "skip_h1_title": false,
   "title_cell": "Table of Contents",
   "title_sidebar": "Contents",
   "toc_cell": false,
   "toc_position": {
    "height": "calc(100% - 180px)",
    "left": "10px",
    "top": "150px",
    "width": "384px"
   },
   "toc_section_display": true,
   "toc_window_display": true
  }
 },
 "nbformat": 4,
 "nbformat_minor": 2
}
