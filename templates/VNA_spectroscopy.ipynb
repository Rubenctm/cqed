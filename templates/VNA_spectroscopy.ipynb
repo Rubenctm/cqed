{
 "cells": [
  {
   "cell_type": "markdown",
   "metadata": {},
   "source": [
    "# Imports"
   ]
  },
  {
   "cell_type": "code",
   "execution_count": 1,
   "metadata": {
    "ExecuteTime": {
     "end_time": "2019-12-02T13:43:32.571863Z",
     "start_time": "2019-12-02T13:43:28.742536Z"
    }
   },
   "outputs": [],
   "source": [
    "import pysweep\n",
    "import pysweep.databackends.debug\n",
    "import pysweep.databackends.list_backend\n",
    "import pysweep.databackends.qcodes\n",
    "import pysweep.core.measurementfunctions\n",
    "from pysweep.core.sweepobject import SweepObject\n",
    "from pysweep.core.measurementfunctions import MakeMeasurementFunction\n",
    "from pysweep.databackends.base import DataParameterFixedAxis\n",
    "from pysweep.databackends.base import DataParameter\n",
    "import pysweep.convenience as conv\n",
    "\n",
    "import qcodes as qc\n",
    "from qcodes.dataset.measurements import Measurement\n",
    "import qcodes.dataset.plotting\n",
    "\n",
    "from time import sleep\n",
    "import numpy as np\n",
    "\n",
    "import matplotlib.pyplot as plt"
   ]
  },
  {
   "cell_type": "code",
   "execution_count": 3,
   "metadata": {
    "ExecuteTime": {
     "end_time": "2019-12-02T12:45:52.475133Z",
     "start_time": "2019-12-02T12:45:52.461140Z"
    }
   },
   "outputs": [],
   "source": [
    "def create_local_dbase_in(folder_name='general', db_name='experiments.db', data_dir='D:/Data'):\n",
    "    \"\"\"    \n",
    "    Initialise or create a QCoDeS database in D:/Data/folder_name/db_name \n",
    "    If the directory does not exist, it is created.\n",
    "    \n",
    "    Inputs:\n",
    "    folder_name (str): Name of the subfolder in D:/Data where db is stored. \n",
    "                       Can also be a path to a subfolder, e.g. general/sample1 leads to db in D:/Data/general/sample1 \n",
    "    db_name (str):     Name of database, including .db\n",
    "    \n",
    "    data_dt (str):     Parent folder for all database files. \n",
    "    \"\"\"\n",
    "    from pathlib import Path\n",
    "    \n",
    "    dest_dir = Path(data_dir, folder_name)\n",
    "    if not dest_dir.exists():\n",
    "        dest_dir.mkdir(parents=True)        \n",
    "    dest_path = Path(dest_dir, db_name)\n",
    "    qc.initialise_or_create_database_at(dest_path)\n",
    "    qc.config['core']['db_location'] = dest_path"
   ]
  },
  {
   "cell_type": "markdown",
   "metadata": {},
   "source": [
    "# Setup of database and station"
   ]
  },
  {
   "cell_type": "markdown",
   "metadata": {},
   "source": [
    "## Set up measurement station"
   ]
  },
  {
   "cell_type": "markdown",
   "metadata": {},
   "source": [
    "for now, we keep the initalisation file <br>\n",
    "**TODO:** move station import to YAML file  <br>\n",
    "https://qcodes.github.io/Qcodes/examples/Station.html#Using-Station-with-a-YAML-configuration-file"
   ]
  },
  {
   "cell_type": "markdown",
   "metadata": {},
   "source": [
    "### K1"
   ]
  },
  {
   "cell_type": "code",
   "execution_count": null,
   "metadata": {
    "ExecuteTime": {
     "end_time": "2019-11-27T08:56:19.721093Z",
     "start_time": "2019-11-27T08:56:19.716096Z"
    }
   },
   "outputs": [],
   "source": [
    "%run -i \"D:\\OneDrive\\Setups\\LK1\\LK1_code\\Code\\LK1\\LK1\\init_station_VNA.py\""
   ]
  },
  {
   "cell_type": "markdown",
   "metadata": {},
   "source": [
    "### K2"
   ]
  },
  {
   "cell_type": "code",
   "execution_count": null,
   "metadata": {
    "ExecuteTime": {
     "end_time": "2019-12-02T12:52:09.278401Z",
     "start_time": "2019-12-02T12:52:03.985Z"
    }
   },
   "outputs": [],
   "source": [
    "%run -i \"D:\\OneDrive\\Setups\\LK2\\LK2_code\\Code\\LK2\\LK2\\init_station_VNA.py\""
   ]
  },
  {
   "cell_type": "markdown",
   "metadata": {},
   "source": [
    "### Small addition to VNA, to be able to set electrical delay via software"
   ]
  },
  {
   "cell_type": "markdown",
   "metadata": {},
   "source": [
    "These functions will be implemented in the ZNB20 driver in one of the future qcodes releases. Remove these redundant lines then."
   ]
  },
  {
   "cell_type": "code",
   "execution_count": 2,
   "metadata": {
    "ExecuteTime": {
     "end_time": "2019-12-02T12:52:09.285398Z",
     "start_time": "2019-12-02T12:52:03.989Z"
    }
   },
   "outputs": [
    {
     "ename": "NameError",
     "evalue": "name 'station' is not defined",
     "output_type": "error",
     "traceback": [
      "\u001b[0;31m---------------------------------------------------------------------------\u001b[0m",
      "\u001b[0;31mNameError\u001b[0m                                 Traceback (most recent call last)",
      "\u001b[0;32m<ipython-input-2-b37126b63e34>\u001b[0m in \u001b[0;36m<module>\u001b[0;34m\u001b[0m\n\u001b[1;32m      1\u001b[0m \u001b[0;31m# This parameter allows to get and set the electrical delay of port 2 of the VNA.\u001b[0m\u001b[0;34m\u001b[0m\u001b[0;34m\u001b[0m\u001b[0;34m\u001b[0m\u001b[0m\n\u001b[0;32m----> 2\u001b[0;31m station.vna.S21.add_parameter(name='electrical_delay', \n\u001b[0m\u001b[1;32m      3\u001b[0m                               \u001b[0mget_cmd\u001b[0m\u001b[0;34m=\u001b[0m\u001b[0;34m'SENS1:CORR:EDEL2:TIME?'\u001b[0m\u001b[0;34m,\u001b[0m\u001b[0;34m\u001b[0m\u001b[0;34m\u001b[0m\u001b[0m\n\u001b[1;32m      4\u001b[0m                               \u001b[0mset_cmd\u001b[0m\u001b[0;34m=\u001b[0m\u001b[0;34m'SENS1:CORR:EDEL2:TIME {}'\u001b[0m\u001b[0;34m,\u001b[0m\u001b[0;34m\u001b[0m\u001b[0;34m\u001b[0m\u001b[0m\n\u001b[1;32m      5\u001b[0m                               \u001b[0mget_parser\u001b[0m\u001b[0;34m=\u001b[0m\u001b[0mfloat\u001b[0m\u001b[0;34m,\u001b[0m\u001b[0;34m\u001b[0m\u001b[0;34m\u001b[0m\u001b[0m\n",
      "\u001b[0;31mNameError\u001b[0m: name 'station' is not defined"
     ]
    }
   ],
   "source": [
    "# This parameter allows to get and set the electrical delay of port 2 of the VNA. \n",
    "# Used to get rid of the phase roll due to the cabel length.\n",
    "station.vna.S21.add_parameter(name='electrical_delay', \n",
    "                              get_cmd='SENS1:CORR:EDEL2:TIME?',\n",
    "                              set_cmd='SENS1:CORR:EDEL2:TIME {}',\n",
    "                              get_parser=float,\n",
    "                              unit = 's')"
   ]
  },
  {
   "cell_type": "code",
   "execution_count": null,
   "metadata": {
    "ExecuteTime": {
     "end_time": "2019-12-02T12:52:09.287397Z",
     "start_time": "2019-12-02T12:52:03.992Z"
    }
   },
   "outputs": [],
   "source": [
    "# This parameter allows to automatically set the electrical delay to get rid of the phase roll due to the length of the cable. \n",
    "# By default, the delay is added to the active (i.e. emitting) port of the VNA.\n",
    "station.vna.S21.add_function('set_electrical_delay_auto',\n",
    "                            call_cmd='SENS1:CORR:EDEL:AUTO ONCE')"
   ]
  },
  {
   "cell_type": "markdown",
   "metadata": {},
   "source": [
    "## Name and initialize database"
   ]
  },
  {
   "cell_type": "code",
   "execution_count": null,
   "metadata": {
    "ExecuteTime": {
     "end_time": "2019-12-02T12:52:09.288396Z",
     "start_time": "2019-12-02T12:52:03.993Z"
    }
   },
   "outputs": [],
   "source": [
    "# To place the database in D:/Data/MyExperiment/ use:\n",
    "folder = 'MyExperiment'\n",
    "\n",
    "# To place the database in a more nested folder structure, e.g. D:/Data/MyExperiment/TestSample/FirstMeasurements/, use:\n",
    "# folder = 'MyExperiment/TestSample/FirstMeasurements'\n",
    "\n",
    "# Name your database\n",
    "database_name = 'yyyy_mm_dd_Run1'\n",
    "\n",
    "create_local_dbase_in(folder_name=folder, db_name='%s.db' %(database_name))\n",
    "\n",
    "qc.config['core']['db_location']"
   ]
  },
  {
   "cell_type": "code",
   "execution_count": null,
   "metadata": {
    "ExecuteTime": {
     "end_time": "2019-12-02T12:52:09.290396Z",
     "start_time": "2019-12-02T12:52:03.995Z"
    }
   },
   "outputs": [],
   "source": []
  },
  {
   "cell_type": "markdown",
   "metadata": {},
   "source": [
    "# Define pysweep measurement functions"
   ]
  },
  {
   "cell_type": "code",
   "execution_count": null,
   "metadata": {
    "ExecuteTime": {
     "end_time": "2019-12-02T12:52:09.291395Z",
     "start_time": "2019-12-02T12:52:03.997Z"
    }
   },
   "outputs": [],
   "source": [
    "pysweep.STATION = station"
   ]
  },
  {
   "cell_type": "code",
   "execution_count": 4,
   "metadata": {
    "ExecuteTime": {
     "end_time": "2019-12-02T12:52:09.293394Z",
     "start_time": "2019-12-02T12:52:03.999Z"
    }
   },
   "outputs": [],
   "source": [
    "# Function called before beginning of measurement loop.\n",
    "# This is a good place to define the VNA sweep parameters. Can also be made a function with changable parameters.\n",
    "\n",
    "def init_measurement(d):\n",
    "    # This block only to always set the electrical delay before each measurement.\n",
    "    # Large frequency range gives a more accurate automatic setting.\n",
    "    station.vna.S21.start(4e9)\n",
    "    station.vna.S21.stop(8e9)\n",
    "    station.vna.S21.set_electrical_delay_auto()\n",
    "    # End of autodelay set\n",
    "    \n",
    "    station.vna.S21.start(4e9)\n",
    "    station.vna.S21.stop(5e9)\n",
    "    station.vna.S21.npts(1001)\n",
    "    \n",
    "    station.vna.S21.power(-20)\n",
    "    station.vna.S21.bandwidth(1e3)\n",
    "    station.vna.S21.avg(10)\n",
    "    \n",
    "    print('Starting measurement.')\n",
    "    \n",
    "# Function called after the end of the measurement.\n",
    "def end_measurement(d):\n",
    "    print('Measurement finished.')"
   ]
  },
  {
   "cell_type": "code",
   "execution_count": null,
   "metadata": {
    "ExecuteTime": {
     "end_time": "2019-12-02T12:52:09.294394Z",
     "start_time": "2019-12-02T12:52:04.001Z"
    }
   },
   "outputs": [],
   "source": [
    "# Standard VNA trace measurement function.\n",
    "# This should soon move to the cqed repository.\n",
    "\n",
    "@MakeMeasurementFunction([pysweep.DataParameter('frequency','Hz', 'array', True),\n",
    "                          pysweep.DataParameter('amplitude', '', 'array'), \n",
    "                          pysweep.DataParameter('phase', 'rad', 'array')])\n",
    "def return_vna_trace(d):\n",
    "    \"\"\"\n",
    "    Pysweep vna measurement function, returns the VNA frequency axis, linear amplitude and phase in radians\n",
    "    \"\"\"\n",
    "    freqs = np.linspace(station.vna.S21.start(),station.vna.S21.stop(), station.vna.S21.npts())\n",
    "    if not station.vna.rf_power():\n",
    "        station.vna.rf_on()\n",
    "    vna_data = station.vna.S21.trace_mag_phase()\n",
    "    return [freqs, vna_data[0], vna_data[1]]"
   ]
  },
  {
   "cell_type": "markdown",
   "metadata": {},
   "source": [
    "# Single VNA trace"
   ]
  },
  {
   "cell_type": "markdown",
   "metadata": {},
   "source": [
    "This just records a single VNA trace with the VNA parameters currently set or set (if specified) in the init_measurement function."
   ]
  },
  {
   "cell_type": "code",
   "execution_count": null,
   "metadata": {
    "ExecuteTime": {
     "end_time": "2019-11-28T15:08:25.782837Z",
     "start_time": "2019-11-28T15:08:06.320417Z"
    }
   },
   "outputs": [],
   "source": [
    "# Give your sample a meaningful name.\n",
    "sample_name = 'sample1'\n",
    "\n",
    "exp = qc.load_or_create_experiment(experiment_name='single_VNA_trace', sample_name=sample_name)\n",
    "meas = Measurement(exp, station)\n",
    "\n",
    "r = pysweep.sweep(init_measurement, end_measurement, return_vna_trace,\n",
    "                 databackend = pysweep.databackends.qcodes.DataBackend(meas))"
   ]
  },
  {
   "cell_type": "markdown",
   "metadata": {},
   "source": [
    "For plotting of the generated dataset in the notebook directly"
   ]
  },
  {
   "cell_type": "code",
   "execution_count": null,
   "metadata": {
    "ExecuteTime": {
     "end_time": "2019-11-27T08:28:06.022548Z",
     "start_time": "2019-11-27T08:28:05.574758Z"
    }
   },
   "outputs": [],
   "source": [
    "qc.dataset.plotting.plot_dataset(r.datasaver.dataset)"
   ]
  },
  {
   "cell_type": "markdown",
   "metadata": {},
   "source": [
    "# Power sweep"
   ]
  },
  {
   "cell_type": "code",
   "execution_count": null,
   "metadata": {
    "ExecuteTime": {
     "end_time": "2019-11-26T12:54:18.744942Z",
     "start_time": "2019-11-26T12:54:08.502365Z"
    }
   },
   "outputs": [],
   "source": [
    "# Give your sample a meaningful name.\n",
    "sample_name = 'sample1'\n",
    "\n",
    "exp = qc.load_or_create_experiment(experiment_name='VNA_vs_pwr', sample_name=sample_name)\n",
    "meas = Measurement(exp, station)\n",
    "\n",
    "r = pysweep.sweep(init_measurement, end_measurement, return_vna_trace, \n",
    "                  pysweep.sweep_object(station.vna.S21.power, np.arange(-50, -15, 5)),\n",
    "                  databackend = pysweep.databackends.qcodes.DataBackend(meas))"
   ]
  },
  {
   "cell_type": "markdown",
   "metadata": {},
   "source": [
    "# Gate sweep"
   ]
  },
  {
   "cell_type": "code",
   "execution_count": null,
   "metadata": {},
   "outputs": [],
   "source": [
    "# Give your sample a meaningful name.\n",
    "sample_name = 'sample1'\n",
    "\n",
    "exp = qc.load_or_create_experiment(experiment_name='VNA_vs_gate', sample_name=sample_name)\n",
    "meas = Measurement(exp, station)\n",
    "\n",
    "r = pysweep.sweep(init_measurement, end_measurement, return_vna_trace, \n",
    "                  pysweep.sweep_object(station.ivvi.dac1, np.arange(0, 1010, 10)),\n",
    "                  databackend = pysweep.databackends.qcodes.DataBackend(meas))"
   ]
  },
  {
   "cell_type": "markdown",
   "metadata": {},
   "source": [
    "# Magnetic field sweep"
   ]
  },
  {
   "cell_type": "markdown",
   "metadata": {
    "ExecuteTime": {
     "end_time": "2019-11-26T14:38:12.973005Z",
     "start_time": "2019-11-26T14:38:12.970008Z"
    }
   },
   "source": [
    "## Setting of x, y, z magnetic fields"
   ]
  },
  {
   "cell_type": "code",
   "execution_count": null,
   "metadata": {
    "ExecuteTime": {
     "end_time": "2019-12-01T15:38:14.423043Z",
     "start_time": "2019-12-01T15:38:14.305100Z"
    }
   },
   "outputs": [],
   "source": [
    "station.mgnt.field_ramp_rate(FieldVector(x=3e-3, y=3e-3, z=3e-3))"
   ]
  },
  {
   "cell_type": "code",
   "execution_count": null,
   "metadata": {
    "ExecuteTime": {
     "end_time": "2019-12-01T17:07:47.989908Z",
     "start_time": "2019-12-01T17:07:47.796079Z"
    }
   },
   "outputs": [],
   "source": [
    "# Get current field strength of x, y, and z component.\n",
    "print(station.mgnt.x_measured())\n",
    "print(station.mgnt.y_measured())\n",
    "print(station.mgnt.z_measured())"
   ]
  },
  {
   "cell_type": "code",
   "execution_count": null,
   "metadata": {
    "ExecuteTime": {
     "end_time": "2019-12-01T17:07:45.469991Z",
     "start_time": "2019-12-01T17:07:37.732544Z"
    }
   },
   "outputs": [],
   "source": [
    "# Set all target field components to some (reasonable) value and ramp magnetic field.\n",
    "# After ramping, check field strength\n",
    "station.mgnt.x_target(0.0e-3)\n",
    "station.mgnt.y_target(0.0e-3)\n",
    "station.mgnt.z_target(0.1e-3)\n",
    "\n",
    "station.mgnt.ramp(mode='safe')\n",
    "\n",
    "print(station.mgnt.r_measured())\n",
    "print(station.mgnt.phi_measured())\n",
    "print(station.mgnt.theta_measured())"
   ]
  },
  {
   "cell_type": "markdown",
   "metadata": {},
   "source": [
    "# The following functions are under testing, ask Lukas G./S.,  Damaz"
   ]
  },
  {
   "cell_type": "markdown",
   "metadata": {},
   "source": [
    "The sweep functions below explicitly calculate x, y, and z components from the spherical component input. This is done for greater control of the actual sweeping direction of the magnet"
   ]
  },
  {
   "cell_type": "markdown",
   "metadata": {},
   "source": [
    "## Phi sweep"
   ]
  },
  {
   "cell_type": "markdown",
   "metadata": {},
   "source": [
    "### Setup sweep object"
   ]
  },
  {
   "cell_type": "code",
   "execution_count": 12,
   "metadata": {
    "ExecuteTime": {
     "end_time": "2019-12-01T17:11:17.308696Z",
     "start_time": "2019-12-01T17:11:17.302699Z"
    }
   },
   "outputs": [],
   "source": [
    "# Track the magnet movement, and save the actual x, y, z field components.\n",
    "@MakeMeasurementFunction([pysweep.DataParameter(name='x', unit='T'), \n",
    "                          pysweep.DataParameter(name='y', unit='T'),\n",
    "                          pysweep.DataParameter(name='z', unit='T')])\n",
    "\n",
    "def measure_magnet_components(d):\n",
    "    x_meas = station.mgnt.x_measured()\n",
    "    y_meas = station.mgnt.y_measured()\n",
    "    z_meas = station.mgnt.z_measured()\n",
    "    return [x_meas, y_meas, z_meas] "
   ]
  },
  {
   "cell_type": "code",
   "execution_count": 13,
   "metadata": {
    "ExecuteTime": {
     "end_time": "2019-12-01T17:11:19.301820Z",
     "start_time": "2019-12-01T17:11:19.292823Z"
    }
   },
   "outputs": [],
   "source": [
    "def sweep_phi(r, theta, points, max_field_strength=1.):\n",
    "    @MakeMeasurementFunction([])\n",
    "    def point_function(d):\n",
    "        return points, []\n",
    "    \n",
    "    @MakeMeasurementFunction([])\n",
    "    def set_function(phi, d):\n",
    "        # Here we use the ISO 80000-2:2009 physics convention for the (r, theta, phi) <--> (x, y, z) definition. \n",
    "        # Note that r is the radial distance, theta the inclination and phi the azimuth (in-plane) angle. \n",
    "        # For uniqueness, we restrict the parameter choice to r>=0, 0<= theta <= pi and 0<= phi <= 2pi. \n",
    "        # The units are: r in T, theta in degrees, phi in degrees. \n",
    "        \n",
    "        assert max_field_strength>r>0., 'The field amplitude must not exceed {} and be lager than 0.' \\\n",
    "                                        ' Upper limit can be adjusted with kwarg: max_field_strength.' \\\n",
    "                                        ' Proceed with caution (Mu-metal shields do not appreciate high fields)'.format(max_field_strength)\n",
    "        assert 0.<=theta<=180., 'The inclination angle must be equal or lager than 0 and smaller or equal than 180. Change setting!'  \n",
    "        assert 0.<=phi<=2*180., 'The azimuth angle must be equal or lager than 0 and smaller or equal than 360. Change setting!'  \n",
    "        \n",
    "        station.mgnt.field_ramp_rate(FieldVector(x=3e-3, y=3e-3, z=3e-3))\n",
    "        \n",
    "        x = r*np.sin(np.radians(theta))*np.cos(np.radians(phi))\n",
    "        y = r*np.sin(np.radians(theta))*np.sin(np.radians(phi))\n",
    "        z = r*np.cos(np.radians(theta))        \n",
    "        \n",
    "        station.mgnt.x_target(x)\n",
    "        station.mgnt.y_target(y)\n",
    "        station.mgnt.z_target(z)\n",
    "\n",
    "        station.mgnt.ramp(mode='safe')\n",
    "        \n",
    "        return []\n",
    "    \n",
    "    return SweepObject(set_function = set_function, unit = \"degrees\", label = \"phi_var\", point_function = point_function, dataparameter=None )"
   ]
  },
  {
   "cell_type": "markdown",
   "metadata": {},
   "source": [
    "### Measurement"
   ]
  },
  {
   "cell_type": "markdown",
   "metadata": {},
   "source": [
    "For the actual measurement, we make use of the '+' functionality of pysweep, to record the measured magnetic field components along with the desired setpoints."
   ]
  },
  {
   "cell_type": "code",
   "execution_count": null,
   "metadata": {
    "ExecuteTime": {
     "end_time": "2019-12-01T17:44:08.332577Z",
     "start_time": "2019-12-01T17:12:04.636203Z"
    },
    "scrolled": true
   },
   "outputs": [],
   "source": [
    "sample_name = 'sample1'\n",
    "\n",
    "exp = qc.load_or_create_experiment(experiment_name='VNA_vs_mgnt-phi', sample_name=sample_name)\n",
    "meas = Measurement(exp, station)\n",
    "\n",
    "r = pysweep.sweep(init_measurement, end_measurement, measure_magnet_components + return_vna_trace, \n",
    "                  sweep_phi(r = 20.0e-3, theta = 5, points = np.arange(0, 360, 5)),\n",
    "                  databackend = pysweep.databackends.qcodes.DataBackend(meas))"
   ]
  },
  {
   "cell_type": "markdown",
   "metadata": {},
   "source": [
    "## r sweep"
   ]
  },
  {
   "cell_type": "code",
   "execution_count": null,
   "metadata": {
    "ExecuteTime": {
     "end_time": "2019-11-27T17:02:40.492102Z",
     "start_time": "2019-11-27T16:43:39.101109Z"
    }
   },
   "outputs": [],
   "source": [
    "sample_name = 'sample1'\n",
    "\n",
    "exp = qc.load_or_create_experiment(experiment_name='VNA_vs_mgnt-r', sample_name=sample_name)\n",
    "meas = Measurement(exp, station)\n",
    "\n",
    "r = pysweep.sweep(init_measurement, end_measurement, return_vna_trace, \n",
    "                  pysweep.sweep_object(station.mgnt.r_ramp, np.arange(station.mgnt.r_measured(), 250.0e-3, 5.0e-3)),\n",
    "                  databackend = pysweep.databackends.qcodes.DataBackend(meas))"
   ]
  }
 ],
 "metadata": {
  "celltoolbar": "Initialization Cell",
  "kernelspec": {
   "display_name": "Python 3",
   "language": "python",
   "name": "python3"
  },
  "language_info": {
   "codemirror_mode": {
    "name": "ipython",
    "version": 3
   },
   "file_extension": ".py",
   "mimetype": "text/x-python",
   "name": "python",
   "nbconvert_exporter": "python",
   "pygments_lexer": "ipython3",
   "version": "3.7.4"
  },
  "toc": {
   "base_numbering": 1,
   "nav_menu": {},
   "number_sections": true,
   "sideBar": true,
   "skip_h1_title": false,
   "title_cell": "Table of Contents",
   "title_sidebar": "Contents",
   "toc_cell": false,
   "toc_position": {
    "height": "calc(100% - 180px)",
    "left": "10px",
    "top": "150px",
    "width": "384px"
   },
   "toc_section_display": true,
   "toc_window_display": true
  }
 },
 "nbformat": 4,
 "nbformat_minor": 2
}
