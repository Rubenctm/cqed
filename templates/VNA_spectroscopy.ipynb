{
 "cells": [
  {
   "cell_type": "markdown",
   "metadata": {},
   "source": [
    "# Imports"
   ]
  },
  {
   "cell_type": "code",
   "execution_count": null,
   "metadata": {
    "ExecuteTime": {
     "end_time": "2019-12-18T14:23:32.189874Z",
     "start_time": "2019-12-18T14:23:30.976449Z"
    }
   },
   "outputs": [],
   "source": [
    "import pysweep\n",
    "import pysweep.databackends.debug\n",
    "import pysweep.databackends.list_backend\n",
    "import pysweep.databackends.qcodes\n",
    "import pysweep.core.measurementfunctions\n",
    "from pysweep.core.sweepobject import SweepObject\n",
    "from pysweep.core.measurementfunctions import MakeMeasurementFunction\n",
    "from pysweep.databackends.base import DataParameterFixedAxis\n",
    "from pysweep.databackends.base import DataParameter\n",
    "import pysweep.convenience as conv\n",
    "\n",
    "import qcodes as qc\n",
    "from qcodes.dataset.measurements import Measurement\n",
    "import qcodes.dataset.plotting\n",
    "\n",
    "from cqed.utils.datahandling import create_local_dbase_in\n",
    "import cqed.custom_pysweep_functions.vna as cvna\n",
    "import cqed.custom_pysweep_functions.magnet as cmgnt\n",
    "\n",
    "import numpy as np\n",
    "import matplotlib.pyplot as plt"
   ]
  },
  {
   "cell_type": "markdown",
   "metadata": {},
   "source": [
    "# Set up station and QCoDeS database"
   ]
  },
  {
   "cell_type": "markdown",
   "metadata": {},
   "source": [
    "## Set up measurement station"
   ]
  },
  {
   "cell_type": "markdown",
   "metadata": {},
   "source": [
    "### K1"
   ]
  },
  {
   "cell_type": "code",
   "execution_count": null,
   "metadata": {
    "ExecuteTime": {
     "end_time": "2019-11-27T08:56:19.721093Z",
     "start_time": "2019-11-27T08:56:19.716096Z"
    }
   },
   "outputs": [],
   "source": [
    "station = qc.Station(config_file=r'D:\\OneDrive\\Setups\\LK1\\LK1_code\\code\\cqed\\station_init\\LK1.station.yaml')"
   ]
  },
  {
   "cell_type": "markdown",
   "metadata": {},
   "source": [
    "### K2"
   ]
  },
  {
   "cell_type": "code",
   "execution_count": null,
   "metadata": {
    "ExecuteTime": {
     "end_time": "2019-12-18T14:23:46.571828Z",
     "start_time": "2019-12-18T14:23:46.552835Z"
    }
   },
   "outputs": [],
   "source": [
    "station = qc.Station(config_file=r'D:\\OneDrive\\Setups\\LK2\\LK2_code\\code\\cqed\\station_init\\LK2.station.yaml')"
   ]
  },
  {
   "cell_type": "markdown",
   "metadata": {},
   "source": [
    "## Set up instruments"
   ]
  },
  {
   "cell_type": "code",
   "execution_count": null,
   "metadata": {
    "ExecuteTime": {
     "end_time": "2019-12-18T14:23:48.475688Z",
     "start_time": "2019-12-18T14:23:48.304686Z"
    }
   },
   "outputs": [],
   "source": [
    "vna = station.load_instrument('vna')\n",
    "\n",
    "vna.add_channel('S21')\n",
    "station.vna.S21.power(-50)\n",
    "station.vna.S21.start(4e9)\n",
    "station.vna.S21.stop(8.5e9)\n",
    "station.vna.S21.bandwidth(1e3)\n",
    "station.vna.S21.npts(10001)\n",
    "\n",
    "# Automatically remove the cable delay from the phase signal\n",
    "# Should be checked in large frequency range and with higer readout power\n",
    "# Often can be fine-tuned a bit better by hand.\n",
    "station.vna.S21.set_electrical_delay_auto()"
   ]
  },
  {
   "cell_type": "code",
   "execution_count": null,
   "metadata": {
    "ExecuteTime": {
     "end_time": "2019-12-18T14:23:49.742332Z",
     "start_time": "2019-12-18T14:23:49.119979Z"
    }
   },
   "outputs": [],
   "source": [
    "mgnt = station.load_instrument('mgnt', field_limits=cmgnt.field_limit)\n",
    "print('current X-field:', station.mgnt.x_measured(), 'T')\n",
    "print('current Y-field:',station.mgnt.y_measured(), 'T')\n",
    "print('current Z-field:',station.mgnt.z_measured(), 'T')"
   ]
  },
  {
   "cell_type": "code",
   "execution_count": null,
   "metadata": {
    "ExecuteTime": {
     "end_time": "2019-12-18T14:23:51.361867Z",
     "start_time": "2019-12-18T14:23:51.247913Z"
    }
   },
   "outputs": [],
   "source": [
    "ivvi = station.load_ivvi()\n",
    "ivvi.print_readable_snapshot()"
   ]
  },
  {
   "cell_type": "markdown",
   "metadata": {},
   "source": [
    "## Pass measurement station to pysweep \n"
   ]
  },
  {
   "cell_type": "markdown",
   "metadata": {},
   "source": [
    "### To be removed after merging of pysweep pull request #19"
   ]
  },
  {
   "cell_type": "code",
   "execution_count": null,
   "metadata": {
    "ExecuteTime": {
     "end_time": "2019-12-04T15:00:49.113639Z",
     "start_time": "2019-12-04T15:00:49.110642Z"
    }
   },
   "outputs": [],
   "source": [
    "pysweep.STATION = station"
   ]
  },
  {
   "cell_type": "markdown",
   "metadata": {},
   "source": [
    "## Name and initialize database"
   ]
  },
  {
   "cell_type": "code",
   "execution_count": null,
   "metadata": {
    "ExecuteTime": {
     "end_time": "2019-12-18T14:24:03.417199Z",
     "start_time": "2019-12-18T14:24:02.088658Z"
    }
   },
   "outputs": [],
   "source": [
    "# To place the database in D:/Data/MyExperiment/ use:\n",
    "folder = 'MyExperiment'\n",
    "\n",
    "# To place the database in a more nested folder structure, e.g. D:/Data/MyExperiment/TestSample/FirstMeasurements/, use:\n",
    "# folder = 'MyExperiment/TestSample/FirstMeasurements'\n",
    "\n",
    "# Name your database\n",
    "database_name = 'yyyy_mm_dd_Run1'\n",
    "\n",
    "create_local_dbase_in(folder_name=folder, db_name='%s.db' %(database_name))\n",
    "\n",
    "qc.config['core']['db_location']"
   ]
  },
  {
   "cell_type": "markdown",
   "metadata": {},
   "source": [
    "# Define pysweep functions"
   ]
  },
  {
   "cell_type": "code",
   "execution_count": null,
   "metadata": {
    "ExecuteTime": {
     "end_time": "2019-12-18T13:25:18.736443Z",
     "start_time": "2019-12-18T13:25:18.729448Z"
    }
   },
   "outputs": [],
   "source": [
    "# Function called before beginning of measurement loop.\n",
    "# This is a good place to define the VNA sweep parameters. Can also be made a function with changable parameters.\n",
    "\n",
    "def init_measurement(d):\n",
    "    # some exemplary parameters that could be set in the init function\n",
    "    station.vna.rf_on()\n",
    "    station.vna.S21.start(4e9)\n",
    "    station.vna.S21.stop(5e9)\n",
    "    station.vna.S21.npts(1001)\n",
    "    \n",
    "    station.vna.S21.power(-20)\n",
    "    station.vna.S21.bandwidth(1e3)\n",
    "    station.vna.S21.avg(10)\n",
    "    \n",
    "    print('Starting measurement.')\n",
    "    \n",
    "# Function called after the end of the measurement.\n",
    "def end_measurement(d):\n",
    "    print('Measurement finished.')"
   ]
  },
  {
   "cell_type": "markdown",
   "metadata": {},
   "source": [
    "# Single VNA trace"
   ]
  },
  {
   "cell_type": "markdown",
   "metadata": {},
   "source": [
    "This just records a single VNA trace with the VNA parameters currently set or set (if specified) in the init_measurement function."
   ]
  },
  {
   "cell_type": "code",
   "execution_count": null,
   "metadata": {
    "ExecuteTime": {
     "end_time": "2019-12-18T13:25:47.275373Z",
     "start_time": "2019-12-18T13:25:37.321681Z"
    }
   },
   "outputs": [],
   "source": [
    "# Give your sample a meaningful name.\n",
    "sample_name = 'sample1'\n",
    "\n",
    "exp = qc.load_or_create_experiment(experiment_name='single_VNA_trace', sample_name=sample_name)\n",
    "meas = Measurement(exp, station)\n",
    "\n",
    "result = pysweep.sweep(init_measurement, end_measurement, cvna.return_vna_trace,\n",
    "                 databackend = pysweep.databackends.qcodes.DataBackend(meas))"
   ]
  },
  {
   "cell_type": "markdown",
   "metadata": {},
   "source": [
    "For plotting of the generated dataset in the notebook directly"
   ]
  },
  {
   "cell_type": "code",
   "execution_count": null,
   "metadata": {
    "ExecuteTime": {
     "end_time": "2019-12-18T13:30:31.310958Z",
     "start_time": "2019-12-18T13:30:30.970112Z"
    }
   },
   "outputs": [],
   "source": [
    "qc.dataset.plotting.plot_dataset(result.datasaver.dataset)"
   ]
  },
  {
   "cell_type": "markdown",
   "metadata": {},
   "source": [
    "## Measuring multiple resonators simultaneously"
   ]
  },
  {
   "cell_type": "markdown",
   "metadata": {},
   "source": [
    "Measure multiple resonators at different frequencies with a span specified for each resonator. Useful for example when ramping up magnetic field and measuring multiple resonators at the same time to save measurement time. "
   ]
  },
  {
   "cell_type": "markdown",
   "metadata": {},
   "source": [
    "Below is an example for a powersweep of 4 resonators simulatenously. Which means, the power parameter is swept, all four resonators with their corresponding span are measured, then the next power is measured and so on."
   ]
  },
  {
   "cell_type": "code",
   "execution_count": null,
   "metadata": {},
   "outputs": [],
   "source": [
    "# Set centerfrequencies for individual resonators\n",
    "fr = [5.0e9, 5.5e9, 6.0e9, 6.5e9]\n",
    "# Set measurement spans for individual resonators\n",
    "spans = [20e6, 20e6, 20e6, 20e6]\n",
    "\n",
    "sample_name = 'sample1_all_resonators'\n",
    "experiment_name = 'VNA_vs_pwr'\n",
    "\n",
    "exp = qc.load_or_create_experiment(experiment_name=experiment_name, sample_name=sample_name)\n",
    "meas = Measurement(exp, station)\n",
    "\n",
    "result = pysweep.sweep(init_measurement, end_measurement, \n",
    "                       eval(cvna.multiple_meas_functions(fr, spans)), \n",
    "                       pysweep.sweep_object(station.vna.S21.power, np.arange(-50, -15, 5)),\n",
    "                       databackend = pysweep.databackends.qcodes.DataBackend(meas))"
   ]
  },
  {
   "cell_type": "markdown",
   "metadata": {},
   "source": [
    "# Power sweep"
   ]
  },
  {
   "cell_type": "code",
   "execution_count": null,
   "metadata": {
    "ExecuteTime": {
     "end_time": "2019-11-26T12:54:18.744942Z",
     "start_time": "2019-11-26T12:54:08.502365Z"
    }
   },
   "outputs": [],
   "source": [
    "# Give your sample a meaningful name.\n",
    "sample_name = 'sample1'\n",
    "\n",
    "exp = qc.load_or_create_experiment(experiment_name='VNA_vs_pwr', sample_name=sample_name)\n",
    "meas = Measurement(exp, station)\n",
    "\n",
    "result = pysweep.sweep(init_measurement, end_measurement, cvna.return_vna_trace, \n",
    "                  pysweep.sweep_object(station.vna.S21.power, np.arange(-50, -15, 5)),\n",
    "                  databackend = pysweep.databackends.qcodes.DataBackend(meas))"
   ]
  },
  {
   "cell_type": "markdown",
   "metadata": {},
   "source": [
    "# Gate sweep"
   ]
  },
  {
   "cell_type": "markdown",
   "metadata": {},
   "source": [
    "Exemplary setup to measure a spectrum with the VNA (as specified in the init_measurement function for example) as a function of the dac1 voltage of the IVVI"
   ]
  },
  {
   "cell_type": "code",
   "execution_count": null,
   "metadata": {},
   "outputs": [],
   "source": [
    "# Give your sample a meaningful name.\n",
    "sample_name = 'sample1'\n",
    "\n",
    "exp = qc.load_or_create_experiment(experiment_name='VNA_vs_gate', sample_name=sample_name)\n",
    "meas = Measurement(exp, station)\n",
    "\n",
    "result = pysweep.sweep(init_measurement, end_measurement, cvna.return_vna_trace, \n",
    "                  pysweep.sweep_object(station.ivvi.dac1, np.arange(0, 1010, 10)),\n",
    "                  databackend = pysweep.databackends.qcodes.DataBackend(meas))"
   ]
  },
  {
   "cell_type": "markdown",
   "metadata": {},
   "source": [
    "# Magnetic field sweep"
   ]
  },
  {
   "cell_type": "markdown",
   "metadata": {
    "ExecuteTime": {
     "end_time": "2019-11-26T14:38:12.973005Z",
     "start_time": "2019-11-26T14:38:12.970008Z"
    }
   },
   "source": [
    "## Setting of x, y, z magnetic fields"
   ]
  },
  {
   "cell_type": "code",
   "execution_count": null,
   "metadata": {
    "ExecuteTime": {
     "end_time": "2019-12-01T15:38:14.423043Z",
     "start_time": "2019-12-01T15:38:14.305100Z"
    }
   },
   "outputs": [],
   "source": [
    "station.mgnt.field_ramp_rate(FieldVector(x=3e-3, y=3e-3, z=3e-3))"
   ]
  },
  {
   "cell_type": "code",
   "execution_count": null,
   "metadata": {
    "ExecuteTime": {
     "end_time": "2019-12-01T17:07:47.989908Z",
     "start_time": "2019-12-01T17:07:47.796079Z"
    }
   },
   "outputs": [],
   "source": [
    "# Get current field strength of x, y, and z component.\n",
    "print(station.mgnt.x_measured())\n",
    "print(station.mgnt.y_measured())\n",
    "print(station.mgnt.z_measured())"
   ]
  },
  {
   "cell_type": "code",
   "execution_count": null,
   "metadata": {
    "ExecuteTime": {
     "end_time": "2019-12-01T17:07:45.469991Z",
     "start_time": "2019-12-01T17:07:37.732544Z"
    }
   },
   "outputs": [],
   "source": [
    "# Set all target field components to some (reasonable) value and ramp magnetic field.\n",
    "# After ramping, check field strength\n",
    "station.mgnt.x_target(0.0e-3)\n",
    "station.mgnt.y_target(0.0e-3)\n",
    "station.mgnt.z_target(0.1e-3)\n",
    "\n",
    "station.mgnt.ramp(mode='safe')\n",
    "\n",
    "print(station.mgnt.r_measured())\n",
    "print(station.mgnt.phi_measured())\n",
    "print(station.mgnt.theta_measured())"
   ]
  },
  {
   "cell_type": "markdown",
   "metadata": {},
   "source": [
    "## Sweeping in spherical coordinates"
   ]
  },
  {
   "cell_type": "markdown",
   "metadata": {},
   "source": [
    "The sweep functions below explicitly calculate x, y, and z components from the spherical component input. This is done for greater control of the actual sweeping direction of the magnet"
   ]
  },
  {
   "cell_type": "markdown",
   "metadata": {},
   "source": [
    "For the actual measurement, we make use of the '+' functionality of pysweep, to record the measured magnetic field components along with the desired setpoints."
   ]
  },
  {
   "cell_type": "markdown",
   "metadata": {},
   "source": [
    "### Phi sweep"
   ]
  },
  {
   "cell_type": "code",
   "execution_count": null,
   "metadata": {
    "ExecuteTime": {
     "end_time": "2019-12-01T17:44:08.332577Z",
     "start_time": "2019-12-01T17:12:04.636203Z"
    },
    "scrolled": true
   },
   "outputs": [],
   "source": [
    "# Give your sample a meaningful name.\n",
    "sample_name = 'sample1'\n",
    "\n",
    "exp = qc.load_or_create_experiment(experiment_name='VNA_vs_mgnt-phi', sample_name=sample_name)\n",
    "meas = Measurement(exp, station)\n",
    "\n",
    "result = pysweep.sweep(init_measurement, end_measurement, cmgnt.measure_magnet_components + cvna.return_vna_trace, \n",
    "                  cmgnt.sweep_phi(r = 3.0e-3, theta = 90, points = np.arange(0, 360, 5)),\n",
    "                  databackend = pysweep.databackends.qcodes.DataBackend(meas))"
   ]
  },
  {
   "cell_type": "markdown",
   "metadata": {},
   "source": [
    "### Theta sweep"
   ]
  },
  {
   "cell_type": "code",
   "execution_count": null,
   "metadata": {},
   "outputs": [],
   "source": [
    "# Give your sample a meaningful name.\n",
    "sample_name = 'sample1'\n",
    "\n",
    "exp = qc.load_or_create_experiment(experiment_name='VNA_vs_mgnt-theta', sample_name=sample_name)\n",
    "meas = Measurement(exp, station)\n",
    "\n",
    "result = pysweep.sweep(init_measurement, end_measurement, cmgnt.measure_magnet_orientation + cvna.return_vna_trace, \n",
    "                  cmgnt.sweep_theta(r = 3.0e-3, phi = 90, points = np.arange(0, 180, 5)),\n",
    "                  databackend = pysweep.databackends.qcodes.DataBackend(meas))"
   ]
  },
  {
   "cell_type": "markdown",
   "metadata": {},
   "source": [
    "### r sweep"
   ]
  },
  {
   "cell_type": "code",
   "execution_count": null,
   "metadata": {
    "ExecuteTime": {
     "end_time": "2019-11-27T17:02:40.492102Z",
     "start_time": "2019-11-27T16:43:39.101109Z"
    }
   },
   "outputs": [],
   "source": [
    "# Give your sample a meaningful name.\n",
    "sample_name = 'sample1'\n",
    "\n",
    "exp = qc.load_or_create_experiment(experiment_name='VNA_vs_mgnt-r', sample_name=sample_name)\n",
    "meas = Measurement(exp, station)\n",
    "\n",
    "result = pysweep.sweep(init_measurement, end_measurement, cmgnt.measure_magnet_orientation + cvna.return_vna_trace, \n",
    "                  cmgnt.sweep_r(phi = 90, theta = 0, points = np.arange(0, 20e-3, 2e-3)),\n",
    "                  databackend = pysweep.databackends.qcodes.DataBackend(meas))"
   ]
  }
 ],
 "metadata": {
  "celltoolbar": "Initialization Cell",
  "kernelspec": {
   "display_name": "Python 3",
   "language": "python",
   "name": "python3"
  },
  "language_info": {
   "codemirror_mode": {
    "name": "ipython",
    "version": 3
   },
   "file_extension": ".py",
   "mimetype": "text/x-python",
   "name": "python",
   "nbconvert_exporter": "python",
   "pygments_lexer": "ipython3",
   "version": "3.7.5"
  },
  "toc": {
   "base_numbering": 1,
   "nav_menu": {},
   "number_sections": true,
   "sideBar": true,
   "skip_h1_title": false,
   "title_cell": "Table of Contents",
   "title_sidebar": "Contents",
   "toc_cell": false,
   "toc_position": {
    "height": "calc(100% - 180px)",
    "left": "10px",
    "top": "150px",
    "width": "384px"
   },
   "toc_section_display": true,
   "toc_window_display": true
  }
 },
 "nbformat": 4,
 "nbformat_minor": 2
}
